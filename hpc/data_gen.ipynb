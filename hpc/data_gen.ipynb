{
 "cells": [
  {
   "cell_type": "code",
   "execution_count": 19,
   "id": "2a8c7a76",
   "metadata": {},
   "outputs": [],
   "source": [
    "import pandas as pd\n",
    "\n",
    "# 1. Load your CSV\n",
    "df = pd.read_csv('data/All_AP_pic_w_urls_50000.csv')  # replace with your filename\n",
    "\n",
    "\n",
    "df['urls'] = df['urls'].str.replace('D:\\\\', '/work3/s224228/')\n",
    "df['txt_urls'] = df['txt_urls'].str.replace('D:\\\\', '/work3/s224228/')\n",
    "\n",
    "# 3. Save out to table.csv\n",
    "df.to_csv('table.csv', index=False)\n"
   ]
  },
  {
   "cell_type": "code",
   "execution_count": 2,
   "id": "8157884f",
   "metadata": {},
   "outputs": [
    {
     "data": {
      "text/html": [
       "<div>\n",
       "<style scoped>\n",
       "    .dataframe tbody tr th:only-of-type {\n",
       "        vertical-align: middle;\n",
       "    }\n",
       "\n",
       "    .dataframe tbody tr th {\n",
       "        vertical-align: top;\n",
       "    }\n",
       "\n",
       "    .dataframe thead th {\n",
       "        text-align: right;\n",
       "    }\n",
       "</style>\n",
       "<table border=\"1\" class=\"dataframe\">\n",
       "  <thead>\n",
       "    <tr style=\"text-align: right;\">\n",
       "      <th></th>\n",
       "      <th>subject_id</th>\n",
       "      <th>study_id</th>\n",
       "      <th>dicom_id</th>\n",
       "      <th>urls</th>\n",
       "      <th>txt_urls</th>\n",
       "    </tr>\n",
       "  </thead>\n",
       "  <tbody>\n",
       "    <tr>\n",
       "      <th>0</th>\n",
       "      <td>11941242</td>\n",
       "      <td>50000014</td>\n",
       "      <td>dffc8ab2-ff37704f-2fb29e6d-51e08075-88bca914</td>\n",
       "      <td>D:\\physionet.org/files/mimic-cxr-jpg/2.1.0/fil...</td>\n",
       "      <td>D:\\physionet.org/files/mimic-cxr/2.1.0/files/p...</td>\n",
       "    </tr>\n",
       "    <tr>\n",
       "      <th>1</th>\n",
       "      <td>15752761</td>\n",
       "      <td>50000052</td>\n",
       "      <td>a09e5a6c-9635efa7-de26c04a-28104ce9-e5f798d6</td>\n",
       "      <td>D:\\physionet.org/files/mimic-cxr-jpg/2.1.0/fil...</td>\n",
       "      <td>D:\\physionet.org/files/mimic-cxr/2.1.0/files/p...</td>\n",
       "    </tr>\n",
       "    <tr>\n",
       "      <th>2</th>\n",
       "      <td>15641478</td>\n",
       "      <td>50000103</td>\n",
       "      <td>2494a682-83c9ec78-4727272f-25733f42-58d9f47c</td>\n",
       "      <td>D:\\physionet.org/files/mimic-cxr-jpg/2.1.0/fil...</td>\n",
       "      <td>D:\\physionet.org/files/mimic-cxr/2.1.0/files/p...</td>\n",
       "    </tr>\n",
       "    <tr>\n",
       "      <th>3</th>\n",
       "      <td>19309850</td>\n",
       "      <td>50000125</td>\n",
       "      <td>dfa001f0-9c3d0a8c-b61096ea-e3b90c21-6228ddff</td>\n",
       "      <td>D:\\physionet.org/files/mimic-cxr-jpg/2.1.0/fil...</td>\n",
       "      <td>D:\\physionet.org/files/mimic-cxr/2.1.0/files/p...</td>\n",
       "    </tr>\n",
       "    <tr>\n",
       "      <th>4</th>\n",
       "      <td>19999287</td>\n",
       "      <td>50000173</td>\n",
       "      <td>c8bbb9ff-ecb81ef7-a1a6cecf-f535bd20-bd512ba0</td>\n",
       "      <td>D:\\physionet.org/files/mimic-cxr-jpg/2.1.0/fil...</td>\n",
       "      <td>D:\\physionet.org/files/mimic-cxr/2.1.0/files/p...</td>\n",
       "    </tr>\n",
       "  </tbody>\n",
       "</table>\n",
       "</div>"
      ],
      "text/plain": [
       "   subject_id  study_id                                      dicom_id  \\\n",
       "0    11941242  50000014  dffc8ab2-ff37704f-2fb29e6d-51e08075-88bca914   \n",
       "1    15752761  50000052  a09e5a6c-9635efa7-de26c04a-28104ce9-e5f798d6   \n",
       "2    15641478  50000103  2494a682-83c9ec78-4727272f-25733f42-58d9f47c   \n",
       "3    19309850  50000125  dfa001f0-9c3d0a8c-b61096ea-e3b90c21-6228ddff   \n",
       "4    19999287  50000173  c8bbb9ff-ecb81ef7-a1a6cecf-f535bd20-bd512ba0   \n",
       "\n",
       "                                                urls  \\\n",
       "0  D:\\physionet.org/files/mimic-cxr-jpg/2.1.0/fil...   \n",
       "1  D:\\physionet.org/files/mimic-cxr-jpg/2.1.0/fil...   \n",
       "2  D:\\physionet.org/files/mimic-cxr-jpg/2.1.0/fil...   \n",
       "3  D:\\physionet.org/files/mimic-cxr-jpg/2.1.0/fil...   \n",
       "4  D:\\physionet.org/files/mimic-cxr-jpg/2.1.0/fil...   \n",
       "\n",
       "                                            txt_urls  \n",
       "0  D:\\physionet.org/files/mimic-cxr/2.1.0/files/p...  \n",
       "1  D:\\physionet.org/files/mimic-cxr/2.1.0/files/p...  \n",
       "2  D:\\physionet.org/files/mimic-cxr/2.1.0/files/p...  \n",
       "3  D:\\physionet.org/files/mimic-cxr/2.1.0/files/p...  \n",
       "4  D:\\physionet.org/files/mimic-cxr/2.1.0/files/p...  "
      ]
     },
     "execution_count": 2,
     "metadata": {},
     "output_type": "execute_result"
    }
   ],
   "source": [
    "import pandas as pd\n",
    "\n",
    "df1 = pd.read_csv('data/All_AP_pic_w_urls_50000.csv')\n",
    "df2 = pd.read_csv('data/mimic-cxr-2.0.0-negbio.csv')\n",
    "df1.head()"
   ]
  },
  {
   "cell_type": "code",
   "execution_count": 9,
   "id": "c4698248",
   "metadata": {},
   "outputs": [],
   "source": [
    "import pandas as pd\n",
    "\n",
    "df = pd.read_csv('data/HPC_ALL_AP_pic_w_urls_50000.csv')\n",
    "df2 = pd.read_csv('data/mimic-cxr-2.0.0-negbio.csv')\n",
    "\n",
    "# Merge on 'study_id' to bring in 'pneumonia' column\n",
    "df = df.merge(df2[['study_id', 'Pneumonia']], on='study_id', how='left')\n"
   ]
  },
  {
   "cell_type": "code",
   "execution_count": 12,
   "id": "b742aaaa",
   "metadata": {},
   "outputs": [],
   "source": [
    "# Map the pneumonia values\n",
    "label_map = {\n",
    "    1.0: 1,\n",
    "    0.0: 0,\n",
    "    -1.0: 2\n",
    "}\n",
    "\n",
    "# Create new column with mapped values\n",
    "df['pneumonia_label'] = df['Pneumonia'].map(label_map)\n",
    "\n",
    "# Replace NaN with 3 (not mentioned)\n",
    "df['pneumonia_label'] = df['pneumonia_label'].fillna(3).astype(int)\n"
   ]
  },
  {
   "cell_type": "code",
   "execution_count": 13,
   "id": "80320767",
   "metadata": {},
   "outputs": [
    {
     "data": {
      "text/html": [
       "<div>\n",
       "<style scoped>\n",
       "    .dataframe tbody tr th:only-of-type {\n",
       "        vertical-align: middle;\n",
       "    }\n",
       "\n",
       "    .dataframe tbody tr th {\n",
       "        vertical-align: top;\n",
       "    }\n",
       "\n",
       "    .dataframe thead th {\n",
       "        text-align: right;\n",
       "    }\n",
       "</style>\n",
       "<table border=\"1\" class=\"dataframe\">\n",
       "  <thead>\n",
       "    <tr style=\"text-align: right;\">\n",
       "      <th></th>\n",
       "      <th>subject_id</th>\n",
       "      <th>study_id</th>\n",
       "      <th>dicom_id</th>\n",
       "      <th>urls</th>\n",
       "      <th>txt_urls</th>\n",
       "      <th>Pneumonia</th>\n",
       "      <th>pneumonia_label</th>\n",
       "    </tr>\n",
       "  </thead>\n",
       "  <tbody>\n",
       "    <tr>\n",
       "      <th>0</th>\n",
       "      <td>11941242</td>\n",
       "      <td>50000014</td>\n",
       "      <td>dffc8ab2-ff37704f-2fb29e6d-51e08075-88bca914</td>\n",
       "      <td>/work3/s224228/physionet.org/files/mimic-cxr-j...</td>\n",
       "      <td>/work3/s224228/physionet.org/files/mimic-cxr/2...</td>\n",
       "      <td>-1.0</td>\n",
       "      <td>2</td>\n",
       "    </tr>\n",
       "    <tr>\n",
       "      <th>1</th>\n",
       "      <td>15752761</td>\n",
       "      <td>50000052</td>\n",
       "      <td>a09e5a6c-9635efa7-de26c04a-28104ce9-e5f798d6</td>\n",
       "      <td>/work3/s224228/physionet.org/files/mimic-cxr-j...</td>\n",
       "      <td>/work3/s224228/physionet.org/files/mimic-cxr/2...</td>\n",
       "      <td>NaN</td>\n",
       "      <td>3</td>\n",
       "    </tr>\n",
       "    <tr>\n",
       "      <th>2</th>\n",
       "      <td>15641478</td>\n",
       "      <td>50000103</td>\n",
       "      <td>2494a682-83c9ec78-4727272f-25733f42-58d9f47c</td>\n",
       "      <td>/work3/s224228/physionet.org/files/mimic-cxr-j...</td>\n",
       "      <td>/work3/s224228/physionet.org/files/mimic-cxr/2...</td>\n",
       "      <td>NaN</td>\n",
       "      <td>3</td>\n",
       "    </tr>\n",
       "    <tr>\n",
       "      <th>3</th>\n",
       "      <td>19309850</td>\n",
       "      <td>50000125</td>\n",
       "      <td>dfa001f0-9c3d0a8c-b61096ea-e3b90c21-6228ddff</td>\n",
       "      <td>/work3/s224228/physionet.org/files/mimic-cxr-j...</td>\n",
       "      <td>/work3/s224228/physionet.org/files/mimic-cxr/2...</td>\n",
       "      <td>NaN</td>\n",
       "      <td>3</td>\n",
       "    </tr>\n",
       "    <tr>\n",
       "      <th>4</th>\n",
       "      <td>19999287</td>\n",
       "      <td>50000173</td>\n",
       "      <td>c8bbb9ff-ecb81ef7-a1a6cecf-f535bd20-bd512ba0</td>\n",
       "      <td>/work3/s224228/physionet.org/files/mimic-cxr-j...</td>\n",
       "      <td>/work3/s224228/physionet.org/files/mimic-cxr/2...</td>\n",
       "      <td>NaN</td>\n",
       "      <td>3</td>\n",
       "    </tr>\n",
       "  </tbody>\n",
       "</table>\n",
       "</div>"
      ],
      "text/plain": [
       "   subject_id  study_id                                      dicom_id  \\\n",
       "0    11941242  50000014  dffc8ab2-ff37704f-2fb29e6d-51e08075-88bca914   \n",
       "1    15752761  50000052  a09e5a6c-9635efa7-de26c04a-28104ce9-e5f798d6   \n",
       "2    15641478  50000103  2494a682-83c9ec78-4727272f-25733f42-58d9f47c   \n",
       "3    19309850  50000125  dfa001f0-9c3d0a8c-b61096ea-e3b90c21-6228ddff   \n",
       "4    19999287  50000173  c8bbb9ff-ecb81ef7-a1a6cecf-f535bd20-bd512ba0   \n",
       "\n",
       "                                                urls  \\\n",
       "0  /work3/s224228/physionet.org/files/mimic-cxr-j...   \n",
       "1  /work3/s224228/physionet.org/files/mimic-cxr-j...   \n",
       "2  /work3/s224228/physionet.org/files/mimic-cxr-j...   \n",
       "3  /work3/s224228/physionet.org/files/mimic-cxr-j...   \n",
       "4  /work3/s224228/physionet.org/files/mimic-cxr-j...   \n",
       "\n",
       "                                            txt_urls  Pneumonia  \\\n",
       "0  /work3/s224228/physionet.org/files/mimic-cxr/2...       -1.0   \n",
       "1  /work3/s224228/physionet.org/files/mimic-cxr/2...        NaN   \n",
       "2  /work3/s224228/physionet.org/files/mimic-cxr/2...        NaN   \n",
       "3  /work3/s224228/physionet.org/files/mimic-cxr/2...        NaN   \n",
       "4  /work3/s224228/physionet.org/files/mimic-cxr/2...        NaN   \n",
       "\n",
       "   pneumonia_label  \n",
       "0                2  \n",
       "1                3  \n",
       "2                3  \n",
       "3                3  \n",
       "4                3  "
      ]
     },
     "execution_count": 13,
     "metadata": {},
     "output_type": "execute_result"
    }
   ],
   "source": [
    "df.head()"
   ]
  },
  {
   "cell_type": "code",
   "execution_count": 14,
   "id": "6f66f914",
   "metadata": {},
   "outputs": [],
   "source": [
    "df.to_csv('data/HPC_All_AP_pic_w_labels.csv', index=False)\n"
   ]
  },
  {
   "cell_type": "code",
   "execution_count": 13,
   "id": "6195e065",
   "metadata": {},
   "outputs": [],
   "source": [
    "import pandas as pd\n",
    "\n",
    "# 1. Load the CSV into a DataFrame\n",
    "df = pd.read_csv('data/All_AP_pic_w_urls_50000 copy.csv')  # replace with your filename\n",
    "\n",
    "# 2. Replace all occurrences of the suffix \"ing\" with \"e\" in a specific column\n",
    "#    (e.g. \"having\" → \"have\")\n",
    "\n",
    "df['txt_urls'] = df['txt_urls'].str.replace('D:\\\\', '/work3/s224228/')  # Example of replacing a specific substring\n",
    "\n",
    "# 3. Or, target a specific word anywhere in the column:\n",
    "#df['your_column'] = df['your_column'].str.replace('having', 'have')\n",
    "\n",
    "# 4. (Optional) Save the modified DataFrame back to CSV\n",
    "#df.to_csv('data_modified.csv', index=False)\n"
   ]
  },
  {
   "cell_type": "code",
   "execution_count": 14,
   "id": "985612b4",
   "metadata": {},
   "outputs": [
    {
     "data": {
      "text/html": [
       "<div>\n",
       "<style scoped>\n",
       "    .dataframe tbody tr th:only-of-type {\n",
       "        vertical-align: middle;\n",
       "    }\n",
       "\n",
       "    .dataframe tbody tr th {\n",
       "        vertical-align: top;\n",
       "    }\n",
       "\n",
       "    .dataframe thead th {\n",
       "        text-align: right;\n",
       "    }\n",
       "</style>\n",
       "<table border=\"1\" class=\"dataframe\">\n",
       "  <thead>\n",
       "    <tr style=\"text-align: right;\">\n",
       "      <th></th>\n",
       "      <th>subject_id</th>\n",
       "      <th>study_id</th>\n",
       "      <th>dicom_id</th>\n",
       "      <th>urls</th>\n",
       "      <th>txt_urls</th>\n",
       "    </tr>\n",
       "  </thead>\n",
       "  <tbody>\n",
       "    <tr>\n",
       "      <th>0</th>\n",
       "      <td>11941242</td>\n",
       "      <td>50000014</td>\n",
       "      <td>dffc8ab2-ff37704f-2fb29e6d-51e08075-88bca914</td>\n",
       "      <td>D:\\physionet.org/files/mimic-cxr-jpg/2.1.0/fil...</td>\n",
       "      <td>/work3/s224228/physionet.org/files/mimic-cxr/2...</td>\n",
       "    </tr>\n",
       "    <tr>\n",
       "      <th>1</th>\n",
       "      <td>15752761</td>\n",
       "      <td>50000052</td>\n",
       "      <td>a09e5a6c-9635efa7-de26c04a-28104ce9-e5f798d6</td>\n",
       "      <td>D:\\physionet.org/files/mimic-cxr-jpg/2.1.0/fil...</td>\n",
       "      <td>/work3/s224228/physionet.org/files/mimic-cxr/2...</td>\n",
       "    </tr>\n",
       "    <tr>\n",
       "      <th>2</th>\n",
       "      <td>15641478</td>\n",
       "      <td>50000103</td>\n",
       "      <td>2494a682-83c9ec78-4727272f-25733f42-58d9f47c</td>\n",
       "      <td>D:\\physionet.org/files/mimic-cxr-jpg/2.1.0/fil...</td>\n",
       "      <td>/work3/s224228/physionet.org/files/mimic-cxr/2...</td>\n",
       "    </tr>\n",
       "    <tr>\n",
       "      <th>3</th>\n",
       "      <td>19309850</td>\n",
       "      <td>50000125</td>\n",
       "      <td>dfa001f0-9c3d0a8c-b61096ea-e3b90c21-6228ddff</td>\n",
       "      <td>D:\\physionet.org/files/mimic-cxr-jpg/2.1.0/fil...</td>\n",
       "      <td>/work3/s224228/physionet.org/files/mimic-cxr/2...</td>\n",
       "    </tr>\n",
       "    <tr>\n",
       "      <th>4</th>\n",
       "      <td>19999287</td>\n",
       "      <td>50000173</td>\n",
       "      <td>c8bbb9ff-ecb81ef7-a1a6cecf-f535bd20-bd512ba0</td>\n",
       "      <td>D:\\physionet.org/files/mimic-cxr-jpg/2.1.0/fil...</td>\n",
       "      <td>/work3/s224228/physionet.org/files/mimic-cxr/2...</td>\n",
       "    </tr>\n",
       "  </tbody>\n",
       "</table>\n",
       "</div>"
      ],
      "text/plain": [
       "   subject_id  study_id                                      dicom_id  \\\n",
       "0    11941242  50000014  dffc8ab2-ff37704f-2fb29e6d-51e08075-88bca914   \n",
       "1    15752761  50000052  a09e5a6c-9635efa7-de26c04a-28104ce9-e5f798d6   \n",
       "2    15641478  50000103  2494a682-83c9ec78-4727272f-25733f42-58d9f47c   \n",
       "3    19309850  50000125  dfa001f0-9c3d0a8c-b61096ea-e3b90c21-6228ddff   \n",
       "4    19999287  50000173  c8bbb9ff-ecb81ef7-a1a6cecf-f535bd20-bd512ba0   \n",
       "\n",
       "                                                urls  \\\n",
       "0  D:\\physionet.org/files/mimic-cxr-jpg/2.1.0/fil...   \n",
       "1  D:\\physionet.org/files/mimic-cxr-jpg/2.1.0/fil...   \n",
       "2  D:\\physionet.org/files/mimic-cxr-jpg/2.1.0/fil...   \n",
       "3  D:\\physionet.org/files/mimic-cxr-jpg/2.1.0/fil...   \n",
       "4  D:\\physionet.org/files/mimic-cxr-jpg/2.1.0/fil...   \n",
       "\n",
       "                                            txt_urls  \n",
       "0  /work3/s224228/physionet.org/files/mimic-cxr/2...  \n",
       "1  /work3/s224228/physionet.org/files/mimic-cxr/2...  \n",
       "2  /work3/s224228/physionet.org/files/mimic-cxr/2...  \n",
       "3  /work3/s224228/physionet.org/files/mimic-cxr/2...  \n",
       "4  /work3/s224228/physionet.org/files/mimic-cxr/2...  "
      ]
     },
     "execution_count": 14,
     "metadata": {},
     "output_type": "execute_result"
    }
   ],
   "source": [
    "df.head()"
   ]
  },
  {
   "cell_type": "code",
   "execution_count": 16,
   "id": "89ce0b2a",
   "metadata": {},
   "outputs": [
    {
     "data": {
      "text/plain": [
       "'/work3/s224228/physionet.org/files/mimic-cxr/2.1.0/files/p15/p15752761/s50000052.txt'"
      ]
     },
     "execution_count": 16,
     "metadata": {},
     "output_type": "execute_result"
    }
   ],
   "source": [
    "df['txt_urls'][1]"
   ]
  },
  {
   "cell_type": "code",
   "execution_count": 1,
   "id": "e766c6d4",
   "metadata": {},
   "outputs": [
    {
     "data": {
      "text/plain": [
       "5"
      ]
     },
     "execution_count": 1,
     "metadata": {},
     "output_type": "execute_result"
    }
   ],
   "source": [
    "a=2\n",
    "b=3\n",
    "a+b"
   ]
  },
  {
   "cell_type": "code",
   "execution_count": 17,
   "id": "360429a0",
   "metadata": {},
   "outputs": [
    {
     "name": "stdout",
     "output_type": "stream",
     "text": [
      "                                 FINAL REPORT\n",
      " INDICATION:  ___ year old man with respiratoyr failure and multifocal PNA s/p\n",
      " PEA arrest  // Interval change\n",
      " \n",
      " COMPARISON:  Radiographs from ___ a ___ a.m..\n",
      " \n",
      " IMPRESSION: \n",
      " \n",
      " Support lines and tubes are unchanged in position.  Heart size is upper limits\n",
      " of normal but stable.  There is persistent pulmonary edema with a more focal\n",
      " area of increased density in the left long which has increased since prior. \n",
      " There is a developing left retrocardiac opacity.  No pneumothoraces are seen.\n",
      "\n"
     ]
    }
   ],
   "source": [
    "from pathlib import Path\n",
    "\n",
    "# Replace with your actual path\n",
    "#txt_path = Path(\"/work3/s224228/physionet.org/files/mimic-cxr/2.1.0/files/p10/p10001884/s50376803.txt\")\n",
    "txt_path = df['txt_urls'][1]\n",
    "\n",
    "with open(txt_path, \"r\", encoding=\"utf-8\") as file:\n",
    "    content = file.read()\n",
    "\n",
    "print(content[:1000])  # Print first 1000 characters\n"
   ]
  },
  {
   "cell_type": "code",
   "execution_count": 6,
   "id": "444fd542",
   "metadata": {},
   "outputs": [
    {
     "name": "stdout",
     "output_type": "stream",
     "text": [
      "✅ Saved file to /work3/s224228/physionet.org/files/mimic-cxr/2.1.0/files/p10/p10001884/test.txt\n"
     ]
    }
   ],
   "source": [
    "from pathlib import Path\n",
    "\n",
    "# Replace with your actual path\n",
    "txt_path = Path(\"/work3/s224228/physionet.org/files/mimic-cxr/2.1.0/files/p10/p10001884/test.txt\")\n",
    "# Write to the file (overwrite if exists)\n",
    "with open(txt_path, \"w\", encoding=\"utf-8\") as file:\n",
    "    file.write(\"This is a test.\\nHere is another line.\")\n",
    "\n",
    "print(f\"✅ Saved file to {txt_path}\")"
   ]
  },
  {
   "cell_type": "code",
   "execution_count": 5,
   "id": "c6078f83",
   "metadata": {},
   "outputs": [
    {
     "ename": "FileNotFoundError",
     "evalue": "[Errno 2] No such file or directory: '/work3/s224228/physionet.org/files/mimic-cxr/2.1.0/files/p10/p10001884/test.txt'",
     "output_type": "error",
     "traceback": [
      "\u001b[0;31m---------------------------------------------------------------------------\u001b[0m",
      "\u001b[0;31mFileNotFoundError\u001b[0m                         Traceback (most recent call last)",
      "Cell \u001b[0;32mIn[5], line 6\u001b[0m\n\u001b[1;32m      3\u001b[0m \u001b[38;5;66;03m# Replace with your actual path\u001b[39;00m\n\u001b[1;32m      4\u001b[0m txt_path \u001b[38;5;241m=\u001b[39m Path(\u001b[38;5;124m\"\u001b[39m\u001b[38;5;124m/work3/s224228/physionet.org/files/mimic-cxr/2.1.0/files/p10/p10001884/test.txt\u001b[39m\u001b[38;5;124m\"\u001b[39m)\n\u001b[0;32m----> 6\u001b[0m \u001b[38;5;28;01mwith\u001b[39;00m \u001b[38;5;28;43mopen\u001b[39;49m\u001b[43m(\u001b[49m\u001b[43mtxt_path\u001b[49m\u001b[43m,\u001b[49m\u001b[43m \u001b[49m\u001b[38;5;124;43m\"\u001b[39;49m\u001b[38;5;124;43mr\u001b[39;49m\u001b[38;5;124;43m\"\u001b[39;49m\u001b[43m,\u001b[49m\u001b[43m \u001b[49m\u001b[43mencoding\u001b[49m\u001b[38;5;241;43m=\u001b[39;49m\u001b[38;5;124;43m\"\u001b[39;49m\u001b[38;5;124;43mutf-8\u001b[39;49m\u001b[38;5;124;43m\"\u001b[39;49m\u001b[43m)\u001b[49m \u001b[38;5;28;01mas\u001b[39;00m file:\n\u001b[1;32m      7\u001b[0m     content \u001b[38;5;241m=\u001b[39m file\u001b[38;5;241m.\u001b[39mread()\n\u001b[1;32m      9\u001b[0m \u001b[38;5;28mprint\u001b[39m(content[:\u001b[38;5;241m1000\u001b[39m])  \u001b[38;5;66;03m# Print first 1000 characters\u001b[39;00m\n",
      "File \u001b[0;32m~/Bachelor_project/bachelor/lib/python3.10/site-packages/IPython/core/interactiveshell.py:324\u001b[0m, in \u001b[0;36m_modified_open\u001b[0;34m(file, *args, **kwargs)\u001b[0m\n\u001b[1;32m    317\u001b[0m \u001b[38;5;28;01mif\u001b[39;00m file \u001b[38;5;129;01min\u001b[39;00m {\u001b[38;5;241m0\u001b[39m, \u001b[38;5;241m1\u001b[39m, \u001b[38;5;241m2\u001b[39m}:\n\u001b[1;32m    318\u001b[0m     \u001b[38;5;28;01mraise\u001b[39;00m \u001b[38;5;167;01mValueError\u001b[39;00m(\n\u001b[1;32m    319\u001b[0m         \u001b[38;5;124mf\u001b[39m\u001b[38;5;124m\"\u001b[39m\u001b[38;5;124mIPython won\u001b[39m\u001b[38;5;124m'\u001b[39m\u001b[38;5;124mt let you open fd=\u001b[39m\u001b[38;5;132;01m{\u001b[39;00mfile\u001b[38;5;132;01m}\u001b[39;00m\u001b[38;5;124m by default \u001b[39m\u001b[38;5;124m\"\u001b[39m\n\u001b[1;32m    320\u001b[0m         \u001b[38;5;124m\"\u001b[39m\u001b[38;5;124mas it is likely to crash IPython. If you know what you are doing, \u001b[39m\u001b[38;5;124m\"\u001b[39m\n\u001b[1;32m    321\u001b[0m         \u001b[38;5;124m\"\u001b[39m\u001b[38;5;124myou can use builtins\u001b[39m\u001b[38;5;124m'\u001b[39m\u001b[38;5;124m open.\u001b[39m\u001b[38;5;124m\"\u001b[39m\n\u001b[1;32m    322\u001b[0m     )\n\u001b[0;32m--> 324\u001b[0m \u001b[38;5;28;01mreturn\u001b[39;00m \u001b[43mio_open\u001b[49m\u001b[43m(\u001b[49m\u001b[43mfile\u001b[49m\u001b[43m,\u001b[49m\u001b[43m \u001b[49m\u001b[38;5;241;43m*\u001b[39;49m\u001b[43margs\u001b[49m\u001b[43m,\u001b[49m\u001b[43m \u001b[49m\u001b[38;5;241;43m*\u001b[39;49m\u001b[38;5;241;43m*\u001b[39;49m\u001b[43mkwargs\u001b[49m\u001b[43m)\u001b[49m\n",
      "\u001b[0;31mFileNotFoundError\u001b[0m: [Errno 2] No such file or directory: '/work3/s224228/physionet.org/files/mimic-cxr/2.1.0/files/p10/p10001884/test.txt'"
     ]
    }
   ],
   "source": [
    "from pathlib import Path\n",
    "\n",
    "# Replace with your actual path\n",
    "txt_path = Path(\"/work3/s224228/physionet.org/files/mimic-cxr/2.1.0/files/p10/p10001884/test.txt\")\n",
    "\n",
    "with open(txt_path, \"r\", encoding=\"utf-8\") as file:\n",
    "    content = file.read()\n",
    "\n",
    "print(content[:1000])  # Print first 1000 characters\n"
   ]
  }
 ],
 "metadata": {
  "kernelspec": {
   "display_name": "bachelor",
   "language": "python",
   "name": "python3"
  },
  "language_info": {
   "codemirror_mode": {
    "name": "ipython",
    "version": 3
   },
   "file_extension": ".py",
   "mimetype": "text/x-python",
   "name": "python",
   "nbconvert_exporter": "python",
   "pygments_lexer": "ipython3",
   "version": "3.10.12"
  }
 },
 "nbformat": 4,
 "nbformat_minor": 5
}
