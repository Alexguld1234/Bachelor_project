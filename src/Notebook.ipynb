{
 "cells": [
  {
   "cell_type": "code",
   "execution_count": 1,
   "metadata": {},
   "outputs": [
    {
     "ename": "ImportError",
     "evalue": "cannot import name 'get_dataloader' from 'data' (unknown location)",
     "output_type": "error",
     "traceback": [
      "\u001b[1;31m---------------------------------------------------------------------------\u001b[0m",
      "\u001b[1;31mImportError\u001b[0m                               Traceback (most recent call last)",
      "Cell \u001b[1;32mIn[1], line 3\u001b[0m\n\u001b[0;32m      1\u001b[0m \u001b[38;5;66;03m# Import necessary libraries\u001b[39;00m\n\u001b[0;32m      2\u001b[0m \u001b[38;5;28;01mimport\u001b[39;00m\u001b[38;5;250m \u001b[39m\u001b[38;5;21;01mtorch\u001b[39;00m\n\u001b[1;32m----> 3\u001b[0m \u001b[38;5;28;01mfrom\u001b[39;00m\u001b[38;5;250m \u001b[39m\u001b[38;5;21;01mdata\u001b[39;00m\u001b[38;5;250m \u001b[39m\u001b[38;5;28;01mimport\u001b[39;00m get_dataloader\n\u001b[0;32m      4\u001b[0m \u001b[38;5;28;01mfrom\u001b[39;00m\u001b[38;5;250m \u001b[39m\u001b[38;5;21;01mmodel\u001b[39;00m\u001b[38;5;250m \u001b[39m\u001b[38;5;28;01mimport\u001b[39;00m ChestXrayReportGenerator\n\u001b[0;32m      5\u001b[0m \u001b[38;5;28;01mfrom\u001b[39;00m\u001b[38;5;250m \u001b[39m\u001b[38;5;21;01mtrain\u001b[39;00m\u001b[38;5;250m \u001b[39m\u001b[38;5;28;01mimport\u001b[39;00m train\n",
      "\u001b[1;31mImportError\u001b[0m: cannot import name 'get_dataloader' from 'data' (unknown location)"
     ]
    }
   ],
   "source": [
    "# Import necessary libraries\n",
    "import torch\n",
    "from data import get_dataloader\n",
    "from model import ChestXrayReportGenerator\n",
    "from train import train\n",
    "from evaluate import evaluate_model\n",
    "from visualize import plot_sample_predictions\n",
    "\n",
    "# Set device\n",
    "device = torch.device(\"cuda\" if torch.cuda.is_available() else \"cpu\")\n",
    "\n",
    "# Parameters\n",
    "BATCH_SIZE = 4\n",
    "VOCAB_SIZE = 5000  # Placeholder, should match tokenized vocab size\n",
    "\n",
    "# Step 1: Check Data Loading\n",
    "print(\"✅ Testing DataLoader...\")\n",
    "train_loader = get_dataloader(\"data/subset_pneumonia_30.csv\", \"data/JPG_AP\", \"data/Reports\", mode=\"train\", batch_size=BATCH_SIZE)\n",
    "images, reports, labels = next(iter(train_loader))\n",
    "print(f\"Batch of Images: {images.shape}, Reports: {len(reports)}, Labels: {labels}\")\n",
    "\n",
    "# Step 2: Check Model Initialization\n",
    "print(\"✅ Testing Model Initialization...\")\n",
    "model = ChestXrayReportGenerator(VOCAB_SIZE).to(device)\n",
    "print(model)\n",
    "\n",
    "# Step 3: Check Forward Pass\n",
    "print(\"✅ Testing Forward Pass...\")\n",
    "images, reports, labels = images.to(device), reports, labels.to(device).float()\n",
    "tokenized_reports = torch.randint(0, VOCAB_SIZE, (reports.shape[0], 20)).to(device)  # Placeholder tokenization\n",
    "\n",
    "with torch.no_grad():\n",
    "    class_pred, report_pred = model(images, tokenized_reports)\n",
    "\n",
    "print(f\"Classification Output: {class_pred.shape}, Report Output: {report_pred.shape}\")\n",
    "\n",
    "# Step 4: Check Training Process\n",
    "print(\"✅ Testing Training Loop...\")\n",
    "train()\n",
    "\n",
    "# Step 5: Check Evaluation Process\n",
    "print(\"✅ Testing Evaluation...\")\n",
    "evaluate_model()\n",
    "\n",
    "# Step 6: Check Visualization\n",
    "print(\"✅ Testing Visualization...\")\n",
    "plot_sample_predictions(num_samples=3)\n",
    "\n",
    "print(\"🎉 All tests passed successfully!\")\n"
   ]
  },
  {
   "cell_type": "code",
   "execution_count": null,
   "metadata": {},
   "outputs": [],
   "source": []
  }
 ],
 "metadata": {
  "kernelspec": {
   "display_name": "Bachelor_project",
   "language": "python",
   "name": "python3"
  },
  "language_info": {
   "codemirror_mode": {
    "name": "ipython",
    "version": 3
   },
   "file_extension": ".py",
   "mimetype": "text/x-python",
   "name": "python",
   "nbconvert_exporter": "python",
   "pygments_lexer": "ipython3",
   "version": "3.10.16"
  }
 },
 "nbformat": 4,
 "nbformat_minor": 2
}
