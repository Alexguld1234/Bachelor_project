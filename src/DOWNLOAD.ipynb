{
 "cells": [
  {
   "cell_type": "code",
   "execution_count": null,
   "metadata": {},
   "outputs": [],
   "source": [
    "import pandas as pd\n",
    "df = pd.read_csv(r\"D:/Bachelor_project/data/mimic-cxr-2.0.0-metadata.csv\")\n",
    "result = df[df[\"ViewPosition\"] == \"AP\"] \\\n",
    "    .groupby(\"study_id\") \\\n",
    "    .first() \\\n",
    "    .reset_index() \\\n",
    "    [[\"subject_id\", \"study_id\", \"dicom_id\"]]"
   ]
  },
  {
   "cell_type": "markdown",
   "metadata": {},
   "source": [
    "# JPG"
   ]
  },
  {
   "cell_type": "code",
   "execution_count": null,
   "metadata": {},
   "outputs": [],
   "source": [
    "result[\"urls\"] = result.apply(\n",
    "    lambda row: f\"https://physionet.org/files/mimic-cxr-jpg/2.1.0/files/p{str(row['subject_id'])[:2]}/p{row['subject_id']}/s{row['study_id']}/{row['dicom_id']}.jpg\",\n",
    "    axis=1\n",
    ")\n"
   ]
  },
  {
   "cell_type": "code",
   "execution_count": 7,
   "metadata": {},
   "outputs": [
    {
     "data": {
      "application/vnd.microsoft.datawrangler.viewer.v0+json": {
       "columns": [
        {
         "name": "index",
         "rawType": "int64",
         "type": "integer"
        },
        {
         "name": "subject_id",
         "rawType": "int64",
         "type": "integer"
        },
        {
         "name": "study_id",
         "rawType": "int64",
         "type": "integer"
        },
        {
         "name": "dicom_id",
         "rawType": "object",
         "type": "string"
        },
        {
         "name": "urls",
         "rawType": "object",
         "type": "string"
        }
       ],
       "conversionMethod": "pd.DataFrame",
       "ref": "80597969-257f-4fc2-9e68-d50e8dd20587",
       "rows": [
        [
         "45794",
         "19541392",
         "53448578",
         "562973d9-af939572-a7b31fbf-b8999131-9e036d6d",
         "https://physionet.org/files/mimic-cxr-jpg/2.1.0/files/p19/p19541392/s53448578/562973d9-af939572-a7b31fbf-b8999131-9e036d6d.jpg"
        ],
        [
         "45795",
         "16442524",
         "53448735",
         "b5dd5c91-157acbb2-d0b5da70-145b0c60-5d4cc4f3",
         "https://physionet.org/files/mimic-cxr-jpg/2.1.0/files/p16/p16442524/s53448735/b5dd5c91-157acbb2-d0b5da70-145b0c60-5d4cc4f3.jpg"
        ],
        [
         "45796",
         "14028270",
         "53448780",
         "b179468f-28389e82-cc246d9a-3cfd286c-c124fcb6",
         "https://physionet.org/files/mimic-cxr-jpg/2.1.0/files/p14/p14028270/s53448780/b179468f-28389e82-cc246d9a-3cfd286c-c124fcb6.jpg"
        ],
        [
         "45797",
         "14873669",
         "53448968",
         "bbada0dd-c345a3d9-27c66f75-d2533ce4-b665c038",
         "https://physionet.org/files/mimic-cxr-jpg/2.1.0/files/p14/p14873669/s53448968/bbada0dd-c345a3d9-27c66f75-d2533ce4-b665c038.jpg"
        ],
        [
         "45798",
         "15543971",
         "53449001",
         "ce0dc036-02a3be95-c5cb466d-6b3a029a-0d2290d5",
         "https://physionet.org/files/mimic-cxr-jpg/2.1.0/files/p15/p15543971/s53449001/ce0dc036-02a3be95-c5cb466d-6b3a029a-0d2290d5.jpg"
        ],
        [
         "45799",
         "16196998",
         "53449069",
         "87c1c69d-62be921f-238e708d-ee09da0e-0c41ae2e",
         "https://physionet.org/files/mimic-cxr-jpg/2.1.0/files/p16/p16196998/s53449069/87c1c69d-62be921f-238e708d-ee09da0e-0c41ae2e.jpg"
        ],
        [
         "45800",
         "10405463",
         "53449217",
         "50dd84eb-16aaeb04-4d83d672-7d0e409a-d276cfc6",
         "https://physionet.org/files/mimic-cxr-jpg/2.1.0/files/p10/p10405463/s53449217/50dd84eb-16aaeb04-4d83d672-7d0e409a-d276cfc6.jpg"
        ],
        [
         "45801",
         "15584013",
         "53449388",
         "b9ce1fbb-fbf0214d-28f26adf-6b52ab6c-3145b303",
         "https://physionet.org/files/mimic-cxr-jpg/2.1.0/files/p15/p15584013/s53449388/b9ce1fbb-fbf0214d-28f26adf-6b52ab6c-3145b303.jpg"
        ],
        [
         "45802",
         "14090080",
         "53449690",
         "06cc54cf-f3eb9822-d2d41473-2185233d-c3d8bd0b",
         "https://physionet.org/files/mimic-cxr-jpg/2.1.0/files/p14/p14090080/s53449690/06cc54cf-f3eb9822-d2d41473-2185233d-c3d8bd0b.jpg"
        ],
        [
         "45803",
         "14868766",
         "53450060",
         "ea92941c-fef14b45-94fe1bea-f3f24801-cd396560",
         "https://physionet.org/files/mimic-cxr-jpg/2.1.0/files/p14/p14868766/s53450060/ea92941c-fef14b45-94fe1bea-f3f24801-cd396560.jpg"
        ],
        [
         "45804",
         "11146299",
         "53450119",
         "4aa12076-7bccd351-3fc93e3e-e5615d3c-b99ad26a",
         "https://physionet.org/files/mimic-cxr-jpg/2.1.0/files/p11/p11146299/s53450119/4aa12076-7bccd351-3fc93e3e-e5615d3c-b99ad26a.jpg"
        ],
        [
         "45805",
         "12885435",
         "53450271",
         "33b507ee-4feb7505-3bd788c3-236f34b2-ae15dc9c",
         "https://physionet.org/files/mimic-cxr-jpg/2.1.0/files/p12/p12885435/s53450271/33b507ee-4feb7505-3bd788c3-236f34b2-ae15dc9c.jpg"
        ],
        [
         "45806",
         "10626933",
         "53450284",
         "f53a4580-d73e7bcd-dc79e25c-39ebe66a-9335a8ba",
         "https://physionet.org/files/mimic-cxr-jpg/2.1.0/files/p10/p10626933/s53450284/f53a4580-d73e7bcd-dc79e25c-39ebe66a-9335a8ba.jpg"
        ],
        [
         "45807",
         "18270650",
         "53450336",
         "871c0901-1db1fd7c-63d30f40-0c0f41c7-3afc52db",
         "https://physionet.org/files/mimic-cxr-jpg/2.1.0/files/p18/p18270650/s53450336/871c0901-1db1fd7c-63d30f40-0c0f41c7-3afc52db.jpg"
        ],
        [
         "45808",
         "12489165",
         "53450530",
         "ee2bd22e-f73b2368-10eb1767-1bb3adbd-a030b886",
         "https://physionet.org/files/mimic-cxr-jpg/2.1.0/files/p12/p12489165/s53450530/ee2bd22e-f73b2368-10eb1767-1bb3adbd-a030b886.jpg"
        ],
        [
         "45809",
         "10900387",
         "53450531",
         "cba93410-b5317654-7a1939a0-0295d167-cb20f8f9",
         "https://physionet.org/files/mimic-cxr-jpg/2.1.0/files/p10/p10900387/s53450531/cba93410-b5317654-7a1939a0-0295d167-cb20f8f9.jpg"
        ],
        [
         "45810",
         "15862403",
         "53450544",
         "c60bd756-79778d0d-eef5d568-2dd1851d-695b5017",
         "https://physionet.org/files/mimic-cxr-jpg/2.1.0/files/p15/p15862403/s53450544/c60bd756-79778d0d-eef5d568-2dd1851d-695b5017.jpg"
        ],
        [
         "45811",
         "17425647",
         "53450620",
         "0cad740b-df35ddad-f3ef20e3-9dfde44b-1ece0346",
         "https://physionet.org/files/mimic-cxr-jpg/2.1.0/files/p17/p17425647/s53450620/0cad740b-df35ddad-f3ef20e3-9dfde44b-1ece0346.jpg"
        ],
        [
         "45812",
         "13586495",
         "53450676",
         "adaf7800-44f5a0f9-f970b395-2df3636e-2abf490b",
         "https://physionet.org/files/mimic-cxr-jpg/2.1.0/files/p13/p13586495/s53450676/adaf7800-44f5a0f9-f970b395-2df3636e-2abf490b.jpg"
        ],
        [
         "45813",
         "18059705",
         "53450683",
         "47e458f6-6237d10d-5d352416-0e9daa4c-4d6b68e7",
         "https://physionet.org/files/mimic-cxr-jpg/2.1.0/files/p18/p18059705/s53450683/47e458f6-6237d10d-5d352416-0e9daa4c-4d6b68e7.jpg"
        ],
        [
         "45814",
         "18550032",
         "53450704",
         "a309ce36-d9cc92ba-11b23f2b-8286cfa1-24f8dcdc",
         "https://physionet.org/files/mimic-cxr-jpg/2.1.0/files/p18/p18550032/s53450704/a309ce36-d9cc92ba-11b23f2b-8286cfa1-24f8dcdc.jpg"
        ],
        [
         "45815",
         "10189427",
         "53450827",
         "723b42c1-6140701f-e1476c70-ee9a1b31-87de2cfa",
         "https://physionet.org/files/mimic-cxr-jpg/2.1.0/files/p10/p10189427/s53450827/723b42c1-6140701f-e1476c70-ee9a1b31-87de2cfa.jpg"
        ],
        [
         "45816",
         "17269743",
         "53450846",
         "508f5ed8-7193169e-d0e7d79b-0d3be3ce-85726ad5",
         "https://physionet.org/files/mimic-cxr-jpg/2.1.0/files/p17/p17269743/s53450846/508f5ed8-7193169e-d0e7d79b-0d3be3ce-85726ad5.jpg"
        ],
        [
         "45817",
         "15040921",
         "53450895",
         "91e32e86-4eb7ec56-5cef08ff-a10fda8a-d8a2a112",
         "https://physionet.org/files/mimic-cxr-jpg/2.1.0/files/p15/p15040921/s53450895/91e32e86-4eb7ec56-5cef08ff-a10fda8a-d8a2a112.jpg"
        ],
        [
         "45818",
         "16335352",
         "53451015",
         "12bb14db-a80f8c5b-285c9396-b2b1fa7e-23cdcf76",
         "https://physionet.org/files/mimic-cxr-jpg/2.1.0/files/p16/p16335352/s53451015/12bb14db-a80f8c5b-285c9396-b2b1fa7e-23cdcf76.jpg"
        ],
        [
         "45819",
         "10072264",
         "53451069",
         "5ee4ed80-02880277-d75ed2ff-404a73ee-645dace1",
         "https://physionet.org/files/mimic-cxr-jpg/2.1.0/files/p10/p10072264/s53451069/5ee4ed80-02880277-d75ed2ff-404a73ee-645dace1.jpg"
        ],
        [
         "45820",
         "19286158",
         "53451118",
         "3a811859-97ccdbae-6fe9c590-2ee4dab2-024b3868",
         "https://physionet.org/files/mimic-cxr-jpg/2.1.0/files/p19/p19286158/s53451118/3a811859-97ccdbae-6fe9c590-2ee4dab2-024b3868.jpg"
        ],
        [
         "45821",
         "12169013",
         "53451172",
         "8439857f-68c5b465-46ad29aa-1c999ce8-26806c19",
         "https://physionet.org/files/mimic-cxr-jpg/2.1.0/files/p12/p12169013/s53451172/8439857f-68c5b465-46ad29aa-1c999ce8-26806c19.jpg"
        ],
        [
         "45822",
         "12934024",
         "53451187",
         "462fc504-fe8710a3-48830755-8adbd98f-ad501ac6",
         "https://physionet.org/files/mimic-cxr-jpg/2.1.0/files/p12/p12934024/s53451187/462fc504-fe8710a3-48830755-8adbd98f-ad501ac6.jpg"
        ],
        [
         "45823",
         "13135020",
         "53451247",
         "cc6b546a-869dda40-f61fec30-05b0dc32-dfd781e8",
         "https://physionet.org/files/mimic-cxr-jpg/2.1.0/files/p13/p13135020/s53451247/cc6b546a-869dda40-f61fec30-05b0dc32-dfd781e8.jpg"
        ],
        [
         "45824",
         "17725106",
         "53451323",
         "6c4f2464-2a035568-de7c8525-c6fd18fe-1f86c118",
         "https://physionet.org/files/mimic-cxr-jpg/2.1.0/files/p17/p17725106/s53451323/6c4f2464-2a035568-de7c8525-c6fd18fe-1f86c118.jpg"
        ],
        [
         "45825",
         "15582088",
         "53451336",
         "0b0056ca-60e9fe1b-086f09fb-d8e4dba9-a127d394",
         "https://physionet.org/files/mimic-cxr-jpg/2.1.0/files/p15/p15582088/s53451336/0b0056ca-60e9fe1b-086f09fb-d8e4dba9-a127d394.jpg"
        ],
        [
         "45826",
         "18003894",
         "53451407",
         "a739125d-0d5d0354-cb0d5292-0d2eeea1-689edc67",
         "https://physionet.org/files/mimic-cxr-jpg/2.1.0/files/p18/p18003894/s53451407/a739125d-0d5d0354-cb0d5292-0d2eeea1-689edc67.jpg"
        ],
        [
         "45827",
         "17203614",
         "53451415",
         "467c8098-2b4d18ee-b9be4583-4ab21f08-1324f1e6",
         "https://physionet.org/files/mimic-cxr-jpg/2.1.0/files/p17/p17203614/s53451415/467c8098-2b4d18ee-b9be4583-4ab21f08-1324f1e6.jpg"
        ],
        [
         "45828",
         "14991456",
         "53451470",
         "f3d2369e-f9dd7896-9e12d086-f4e87093-c9764f41",
         "https://physionet.org/files/mimic-cxr-jpg/2.1.0/files/p14/p14991456/s53451470/f3d2369e-f9dd7896-9e12d086-f4e87093-c9764f41.jpg"
        ],
        [
         "45829",
         "12473317",
         "53451542",
         "328a12ee-4f51edd0-aa2ff073-578b9503-d26421c0",
         "https://physionet.org/files/mimic-cxr-jpg/2.1.0/files/p12/p12473317/s53451542/328a12ee-4f51edd0-aa2ff073-578b9503-d26421c0.jpg"
        ],
        [
         "45830",
         "14469255",
         "53451555",
         "6d9cd5d6-4aa29e88-d40ec07f-c6d01fc3-1a4d8add",
         "https://physionet.org/files/mimic-cxr-jpg/2.1.0/files/p14/p14469255/s53451555/6d9cd5d6-4aa29e88-d40ec07f-c6d01fc3-1a4d8add.jpg"
        ],
        [
         "45831",
         "18527164",
         "53451689",
         "a306921e-cb04c7f6-bb58d875-d0fed7f7-55cfef6a",
         "https://physionet.org/files/mimic-cxr-jpg/2.1.0/files/p18/p18527164/s53451689/a306921e-cb04c7f6-bb58d875-d0fed7f7-55cfef6a.jpg"
        ],
        [
         "45832",
         "17309553",
         "53451750",
         "14d9eade-faf52e4c-947d1fa2-d2fab39a-3d96e0ac",
         "https://physionet.org/files/mimic-cxr-jpg/2.1.0/files/p17/p17309553/s53451750/14d9eade-faf52e4c-947d1fa2-d2fab39a-3d96e0ac.jpg"
        ],
        [
         "45833",
         "19937419",
         "53451787",
         "6a424de4-c6208332-b1b93b27-79e8eeb6-2f74ab2c",
         "https://physionet.org/files/mimic-cxr-jpg/2.1.0/files/p19/p19937419/s53451787/6a424de4-c6208332-b1b93b27-79e8eeb6-2f74ab2c.jpg"
        ],
        [
         "45834",
         "17483332",
         "53451839",
         "4e95541b-4c245ae1-b24b8915-00d60d8d-9f118149",
         "https://physionet.org/files/mimic-cxr-jpg/2.1.0/files/p17/p17483332/s53451839/4e95541b-4c245ae1-b24b8915-00d60d8d-9f118149.jpg"
        ],
        [
         "45835",
         "15737478",
         "53451856",
         "749aff61-e510fd62-0abebcd4-a7306d2c-6bba4ee1",
         "https://physionet.org/files/mimic-cxr-jpg/2.1.0/files/p15/p15737478/s53451856/749aff61-e510fd62-0abebcd4-a7306d2c-6bba4ee1.jpg"
        ],
        [
         "45836",
         "15680725",
         "53451872",
         "57ab5f3f-8da27630-8b0a9133-7ce8f285-e221eee2",
         "https://physionet.org/files/mimic-cxr-jpg/2.1.0/files/p15/p15680725/s53451872/57ab5f3f-8da27630-8b0a9133-7ce8f285-e221eee2.jpg"
        ],
        [
         "45837",
         "19507970",
         "53451965",
         "68177abf-2f6d2335-8c6c8b91-77419107-bdfe7907",
         "https://physionet.org/files/mimic-cxr-jpg/2.1.0/files/p19/p19507970/s53451965/68177abf-2f6d2335-8c6c8b91-77419107-bdfe7907.jpg"
        ],
        [
         "45838",
         "18948084",
         "53452043",
         "9fc42cf1-94dff4e1-f9e86e8e-7e615a41-bc431e9c",
         "https://physionet.org/files/mimic-cxr-jpg/2.1.0/files/p18/p18948084/s53452043/9fc42cf1-94dff4e1-f9e86e8e-7e615a41-bc431e9c.jpg"
        ],
        [
         "45839",
         "11135350",
         "53452058",
         "317f2687-c3bf422b-70bb63ef-c094a677-6c81f799",
         "https://physionet.org/files/mimic-cxr-jpg/2.1.0/files/p11/p11135350/s53452058/317f2687-c3bf422b-70bb63ef-c094a677-6c81f799.jpg"
        ],
        [
         "45840",
         "10268877",
         "53452091",
         "e35d7c70-3f278882-4f133ee9-184f4d7e-fa32a4d7",
         "https://physionet.org/files/mimic-cxr-jpg/2.1.0/files/p10/p10268877/s53452091/e35d7c70-3f278882-4f133ee9-184f4d7e-fa32a4d7.jpg"
        ],
        [
         "45841",
         "19011646",
         "53452097",
         "96e9bfaf-798a4634-c14ef0fd-8534af30-e270e402",
         "https://physionet.org/files/mimic-cxr-jpg/2.1.0/files/p19/p19011646/s53452097/96e9bfaf-798a4634-c14ef0fd-8534af30-e270e402.jpg"
        ],
        [
         "45842",
         "18552428",
         "53452152",
         "3b09934f-106f393a-5f3d7fda-81d7cd07-48d3b226",
         "https://physionet.org/files/mimic-cxr-jpg/2.1.0/files/p18/p18552428/s53452152/3b09934f-106f393a-5f3d7fda-81d7cd07-48d3b226.jpg"
        ],
        [
         "45843",
         "16167724",
         "53452188",
         "97dac9be-54f3566c-f98bf87b-e33d5069-c3a2ff0a",
         "https://physionet.org/files/mimic-cxr-jpg/2.1.0/files/p16/p16167724/s53452188/97dac9be-54f3566c-f98bf87b-e33d5069-c3a2ff0a.jpg"
        ]
       ],
       "shape": {
        "columns": 4,
        "rows": 4207
       }
      },
      "text/html": [
       "<div>\n",
       "<style scoped>\n",
       "    .dataframe tbody tr th:only-of-type {\n",
       "        vertical-align: middle;\n",
       "    }\n",
       "\n",
       "    .dataframe tbody tr th {\n",
       "        vertical-align: top;\n",
       "    }\n",
       "\n",
       "    .dataframe thead th {\n",
       "        text-align: right;\n",
       "    }\n",
       "</style>\n",
       "<table border=\"1\" class=\"dataframe\">\n",
       "  <thead>\n",
       "    <tr style=\"text-align: right;\">\n",
       "      <th></th>\n",
       "      <th>subject_id</th>\n",
       "      <th>study_id</th>\n",
       "      <th>dicom_id</th>\n",
       "      <th>urls</th>\n",
       "    </tr>\n",
       "  </thead>\n",
       "  <tbody>\n",
       "    <tr>\n",
       "      <th>45794</th>\n",
       "      <td>19541392</td>\n",
       "      <td>53448578</td>\n",
       "      <td>562973d9-af939572-a7b31fbf-b8999131-9e036d6d</td>\n",
       "      <td>https://physionet.org/files/mimic-cxr-jpg/2.1....</td>\n",
       "    </tr>\n",
       "    <tr>\n",
       "      <th>45795</th>\n",
       "      <td>16442524</td>\n",
       "      <td>53448735</td>\n",
       "      <td>b5dd5c91-157acbb2-d0b5da70-145b0c60-5d4cc4f3</td>\n",
       "      <td>https://physionet.org/files/mimic-cxr-jpg/2.1....</td>\n",
       "    </tr>\n",
       "    <tr>\n",
       "      <th>45796</th>\n",
       "      <td>14028270</td>\n",
       "      <td>53448780</td>\n",
       "      <td>b179468f-28389e82-cc246d9a-3cfd286c-c124fcb6</td>\n",
       "      <td>https://physionet.org/files/mimic-cxr-jpg/2.1....</td>\n",
       "    </tr>\n",
       "    <tr>\n",
       "      <th>45797</th>\n",
       "      <td>14873669</td>\n",
       "      <td>53448968</td>\n",
       "      <td>bbada0dd-c345a3d9-27c66f75-d2533ce4-b665c038</td>\n",
       "      <td>https://physionet.org/files/mimic-cxr-jpg/2.1....</td>\n",
       "    </tr>\n",
       "    <tr>\n",
       "      <th>45798</th>\n",
       "      <td>15543971</td>\n",
       "      <td>53449001</td>\n",
       "      <td>ce0dc036-02a3be95-c5cb466d-6b3a029a-0d2290d5</td>\n",
       "      <td>https://physionet.org/files/mimic-cxr-jpg/2.1....</td>\n",
       "    </tr>\n",
       "    <tr>\n",
       "      <th>...</th>\n",
       "      <td>...</td>\n",
       "      <td>...</td>\n",
       "      <td>...</td>\n",
       "      <td>...</td>\n",
       "    </tr>\n",
       "    <tr>\n",
       "      <th>49996</th>\n",
       "      <td>16571136</td>\n",
       "      <td>53772096</td>\n",
       "      <td>116d2a25-4739dbc6-02ddd3f4-ca7f9ce7-3bc5d9c7</td>\n",
       "      <td>https://physionet.org/files/mimic-cxr-jpg/2.1....</td>\n",
       "    </tr>\n",
       "    <tr>\n",
       "      <th>49997</th>\n",
       "      <td>15934572</td>\n",
       "      <td>53772183</td>\n",
       "      <td>27a1794a-7aa9c60a-7ca9b201-eb7b631b-35d4f15e</td>\n",
       "      <td>https://physionet.org/files/mimic-cxr-jpg/2.1....</td>\n",
       "    </tr>\n",
       "    <tr>\n",
       "      <th>49998</th>\n",
       "      <td>16087436</td>\n",
       "      <td>53772252</td>\n",
       "      <td>449d8b01-17a548f2-72fba88f-7b7316c6-04e5d3bd</td>\n",
       "      <td>https://physionet.org/files/mimic-cxr-jpg/2.1....</td>\n",
       "    </tr>\n",
       "    <tr>\n",
       "      <th>49999</th>\n",
       "      <td>15388421</td>\n",
       "      <td>53772304</td>\n",
       "      <td>35af548c-e63b36b9-f187f361-38fb20b9-6899ae2f</td>\n",
       "      <td>https://physionet.org/files/mimic-cxr-jpg/2.1....</td>\n",
       "    </tr>\n",
       "    <tr>\n",
       "      <th>50000</th>\n",
       "      <td>11135350</td>\n",
       "      <td>53772313</td>\n",
       "      <td>cd3281a8-6fdf014d-d38263aa-913e7ac6-50920fae</td>\n",
       "      <td>https://physionet.org/files/mimic-cxr-jpg/2.1....</td>\n",
       "    </tr>\n",
       "  </tbody>\n",
       "</table>\n",
       "<p>4207 rows × 4 columns</p>\n",
       "</div>"
      ],
      "text/plain": [
       "       subject_id  study_id                                      dicom_id  \\\n",
       "45794    19541392  53448578  562973d9-af939572-a7b31fbf-b8999131-9e036d6d   \n",
       "45795    16442524  53448735  b5dd5c91-157acbb2-d0b5da70-145b0c60-5d4cc4f3   \n",
       "45796    14028270  53448780  b179468f-28389e82-cc246d9a-3cfd286c-c124fcb6   \n",
       "45797    14873669  53448968  bbada0dd-c345a3d9-27c66f75-d2533ce4-b665c038   \n",
       "45798    15543971  53449001  ce0dc036-02a3be95-c5cb466d-6b3a029a-0d2290d5   \n",
       "...           ...       ...                                           ...   \n",
       "49996    16571136  53772096  116d2a25-4739dbc6-02ddd3f4-ca7f9ce7-3bc5d9c7   \n",
       "49997    15934572  53772183  27a1794a-7aa9c60a-7ca9b201-eb7b631b-35d4f15e   \n",
       "49998    16087436  53772252  449d8b01-17a548f2-72fba88f-7b7316c6-04e5d3bd   \n",
       "49999    15388421  53772304  35af548c-e63b36b9-f187f361-38fb20b9-6899ae2f   \n",
       "50000    11135350  53772313  cd3281a8-6fdf014d-d38263aa-913e7ac6-50920fae   \n",
       "\n",
       "                                                    urls  \n",
       "45794  https://physionet.org/files/mimic-cxr-jpg/2.1....  \n",
       "45795  https://physionet.org/files/mimic-cxr-jpg/2.1....  \n",
       "45796  https://physionet.org/files/mimic-cxr-jpg/2.1....  \n",
       "45797  https://physionet.org/files/mimic-cxr-jpg/2.1....  \n",
       "45798  https://physionet.org/files/mimic-cxr-jpg/2.1....  \n",
       "...                                                  ...  \n",
       "49996  https://physionet.org/files/mimic-cxr-jpg/2.1....  \n",
       "49997  https://physionet.org/files/mimic-cxr-jpg/2.1....  \n",
       "49998  https://physionet.org/files/mimic-cxr-jpg/2.1....  \n",
       "49999  https://physionet.org/files/mimic-cxr-jpg/2.1....  \n",
       "50000  https://physionet.org/files/mimic-cxr-jpg/2.1....  \n",
       "\n",
       "[4207 rows x 4 columns]"
      ]
     },
     "execution_count": 7,
     "metadata": {},
     "output_type": "execute_result"
    }
   ],
   "source": [
    "result=result[45794:50001]\n",
    "result"
   ]
  },
  {
   "cell_type": "code",
   "execution_count": 21,
   "metadata": {},
   "outputs": [
    {
     "name": "stderr",
     "output_type": "stream",
     "text": [
      "100%|██████████| 29/29 [04:03<00:00,  8.41s/it]\n"
     ]
    }
   ],
   "source": [
    "import subprocess\n",
    "from tqdm import tqdm\n",
    "# Windows-style path where you want to save the files\n",
    "windows_download_path = r\"D:/\"\n",
    "\n",
    "# Convert it to WSL-compatible path (e.g., /mnt/c/Users/...)\n",
    "wsl_path = windows_download_path.replace(\"D:\", \"/mnt/d\").replace(\"//\", \"/\")\n",
    "\n",
    "\n",
    "\n",
    "# Replace with your actual username\n",
    "username = \"alexguld\"\n",
    "password = \"oste1234\"\n",
    "urls = result[\"urls\"].tolist()\n",
    "# Replace with your list of URLs\n",
    "urls = [\n",
    "\"https://physionet.org/files/mimic-cxr-jpg/2.1.0/files/p17/p17556194/s51043546/911d93fa-4b754dfd-135f205d-3535414e-dbcfe509.jpg\",\n",
    "\"https://physionet.org/files/mimic-cxr-jpg/2.1.0/files/p14/p14354835/s51043564/1c2d677c-e2e7de78-a3b74965-e2d4a3b2-31bf1e75.jpg\",\n",
    "\"https://physionet.org/files/mimic-cxr-jpg/2.1.0/files/p11/p11857739/s51147423/a8f1e0d3-2abee7bc-05fba218-2ac6c1af-eb955168.jpg\",\n",
    "\"https://physionet.org/files/mimic-cxr-jpg/2.1.0/files/p15/p15342986/s51184892/798c79fe-dc61c747-34e319d9-6be2c11a-2b302735.jpg\",\n",
    "\"https://physionet.org/files/mimic-cxr-jpg/2.1.0/files/p12/p12698907/s51185197/42d18067-aa916f90-97d78e7f-8bb04995-c57b46fb.jpg\",\n",
    "\"https://physionet.org/files/mimic-cxr-jpg/2.1.0/files/p12/p12747817/s51185447/82366968-f1e305b3-85dc3d12-07963195-ee6a4422.jpg\",\n",
    "\"https://physionet.org/files/mimic-cxr-jpg/2.1.0/files/p16/p16364939/s51185497/8e0fcd94-08cf1fca-8644f7b6-33dc08d5-7367472c.jpg\",\n",
    "\"https://physionet.org/files/mimic-cxr-jpg/2.1.0/files/p15/p15297415/s51185508/a9f291b2-770a829a-fbfdede5-31704450-56ed0610.jpg\",\n",
    "\"https://physionet.org/files/mimic-cxr-jpg/2.1.0/files/p18/p18052788/s51185536/bac67b0b-ee0517f9-e1c46fc3-99c8fff3-8769a01e.jpg\",\n",
    "\"https://physionet.org/files/mimic-cxr-jpg/2.1.0/files/p17/p17078867/s51185562/3f674811-c0e140ed-133eb32e-aa373807-0098c632.jpg\",\n",
    "\"https://physionet.org/files/mimic-cxr-jpg/2.1.0/files/p12/p12919021/s51199248/c317ed81-c55204d1-819d6eb1-0ba2200f-16085ab2.jpg\",\n",
    "\"https://physionet.org/files/mimic-cxr-jpg/2.1.0/files/p16/p16232950/s51199386/59ae55e5-0bc0df76-b02e82a5-af797057-4967ff35.jpg\",\n",
    "\"https://physionet.org/files/mimic-cxr-jpg/2.1.0/files/p12/p12885435/s51279219/f8335c69-519941eb-b6a6bd7f-a29abf87-a3c84d61.jpg\",\n",
    "\"https://physionet.org/files/mimic-cxr-jpg/2.1.0/files/p16/p16148446/s51279249/231542bb-0a887a5b-e7c0b452-52bc89be-1ee36134.jpg\",\n",
    "\"https://physionet.org/files/mimic-cxr-jpg/2.1.0/files/p14/p14689985/s51369090/8dccaddd-3297aa34-adad77ef-f9f2e347-9c5f8c44.jpg\",\n",
    "\"https://physionet.org/files/mimic-cxr-jpg/2.1.0/files/p16/p16293344/s51369095/0ddc18d6-dedada82-62ce76ad-1c8ab2e2-68521d78.jpg\",\n",
    "\"https://physionet.org/files/mimic-cxr-jpg/2.1.0/files/p15/p15259244/s51427308/cd20a77e-2332eb46-6c09f2d2-e0e8d1d9-8f18baf1.jpg\",\n",
    "\"https://physionet.org/files/mimic-cxr-jpg/2.1.0/files/p16/p16066555/s51445859/96c68b1d-e9f11b8f-1e4934c8-16426bc3-1da91bfa.jpg\",\n",
    "\"https://physionet.org/files/mimic-cxr-jpg/2.1.0/files/p16/p16781289/s51474085/9241c44b-822bef5a-b26cce92-1a451e29-c7ce71c9.jpg\",\n",
    "\"https://physionet.org/files/mimic-cxr-jpg/2.1.0/files/p16/p16582727/s51474160/e49f6f51-ba49d98b-b277e328-4fdac095-aec88e70.jpg\",\n",
    "\"https://physionet.org/files/mimic-cxr-jpg/2.1.0/files/p12/p12595991/s51474707/f2baee8f-ab9bb3f0-cd412d19-fa6f5014-d0388839.jpg\",\n",
    "\"https://physionet.org/files/mimic-cxr-jpg/2.1.0/files/p15/p15537698/s51474752/d4e58d6f-ca8e2bc1-55526249-4d825049-2016fcd6.jpg\",\n",
    "\"https://physionet.org/files/mimic-cxr-jpg/2.1.0/files/p18/p18180310/s51484322/199abef3-c61bdc96-c8edd0f1-8dc20b04-0d39d473.jpg\",\n",
    "\"https://physionet.org/files/mimic-cxr-jpg/2.1.0/files/p15/p15566609/s51484439/7c91c7ac-deb0cc76-a30cbc70-40bc5b4d-6c6ebf60.jpg\",\n",
    "\"https://physionet.org/files/mimic-cxr-jpg/2.1.0/files/p13/p13297093/s51484492/9f22924f-5d21ddeb-fd66bdd0-529253a3-8a5e9c24.jpg\",\n",
    "\"https://physionet.org/files/mimic-cxr-jpg/2.1.0/files/p12/p12065607/s51485168/0667686d-709610ca-f4465b46-bc1a39bd-d7d87d07.jpg\",\n",
    "\"https://physionet.org/files/mimic-cxr-jpg/2.1.0/files/p12/p12432370/s51525081/b0da79ba-750fb986-1b54ceb0-178584f5-8ad14e13.jpg\",\n",
    "\"https://physionet.org/files/mimic-cxr-jpg/2.1.0/files/p14/p14260018/s51550899/8ea9f070-f7f798fe-ffb7a111-313bc792-ec92d5e3.jpg\",\n",
    "\"https://physionet.org/files/mimic-cxr-jpg/2.1.0/files/p13/p13983349/s51600949/9e2e584b-95790d7c-acb9bfbb-e1de2356-f15a3ed7.jpg\",\n",
    "    \n",
    "]\n",
    "\n",
    "# Download files\n",
    "for url in tqdm(urls):\n",
    "    cmd = [\n",
    "        \"wsl\",\n",
    "        \"wget\",\n",
    "        \"-r\",           # recursive\n",
    "        \"-N\",           # turn on timestamping\n",
    "        \"-c\",           # resume downloads\n",
    "        \"-np\",          # no parent\n",
    "        \"--user\", username,\n",
    "        \"--password\", password,  # prompt once for password\n",
    "        \"-P\", wsl_path,\n",
    "        url\n",
    "    ]\n",
    "\n",
    "    subprocess.run(cmd)"
   ]
  },
  {
   "cell_type": "markdown",
   "metadata": {},
   "source": [
    "# TXT"
   ]
  },
  {
   "cell_type": "code",
   "execution_count": null,
   "metadata": {},
   "outputs": [],
   "source": [
    "result = df[df[\"ViewPosition\"] == \"AP\"] \\\n",
    "    .groupby(\"study_id\") \\\n",
    "    .first() \\\n",
    "    .reset_index() \\\n",
    "    [[\"subject_id\", \"study_id\", \"dicom_id\"]]"
   ]
  },
  {
   "cell_type": "code",
   "execution_count": 10,
   "metadata": {},
   "outputs": [
    {
     "data": {
      "application/vnd.microsoft.datawrangler.viewer.v0+json": {
       "columns": [
        {
         "name": "index",
         "rawType": "int64",
         "type": "integer"
        },
        {
         "name": "subject_id",
         "rawType": "int64",
         "type": "integer"
        },
        {
         "name": "study_id",
         "rawType": "int64",
         "type": "integer"
        },
        {
         "name": "dicom_id",
         "rawType": "object",
         "type": "string"
        },
        {
         "name": "txt_urls",
         "rawType": "object",
         "type": "string"
        }
       ],
       "conversionMethod": "pd.DataFrame",
       "ref": "71b6c545-c31d-4900-ac3f-db822b75895d",
       "rows": [
        [
         "0",
         "11941242",
         "50000014",
         "dffc8ab2-ff37704f-2fb29e6d-51e08075-88bca914",
         "https://physionet.org/files/mimic-cxr/2.1.0/files/p11/p11941242/s50000014.txt"
        ],
        [
         "1",
         "15752761",
         "50000052",
         "a09e5a6c-9635efa7-de26c04a-28104ce9-e5f798d6",
         "https://physionet.org/files/mimic-cxr/2.1.0/files/p15/p15752761/s50000052.txt"
        ],
        [
         "2",
         "15641478",
         "50000103",
         "2494a682-83c9ec78-4727272f-25733f42-58d9f47c",
         "https://physionet.org/files/mimic-cxr/2.1.0/files/p15/p15641478/s50000103.txt"
        ],
        [
         "3",
         "19309850",
         "50000125",
         "dfa001f0-9c3d0a8c-b61096ea-e3b90c21-6228ddff",
         "https://physionet.org/files/mimic-cxr/2.1.0/files/p19/p19309850/s50000125.txt"
        ],
        [
         "4",
         "19999287",
         "50000173",
         "c8bbb9ff-ecb81ef7-a1a6cecf-f535bd20-bd512ba0",
         "https://physionet.org/files/mimic-cxr/2.1.0/files/p19/p19999287/s50000173.txt"
        ],
        [
         "5",
         "16548129",
         "50000198",
         "b66847d6-6848ea1f-58aa0c60-c38316ff-7e2171db",
         "https://physionet.org/files/mimic-cxr/2.1.0/files/p16/p16548129/s50000198.txt"
        ],
        [
         "6",
         "13797827",
         "50000319",
         "3e9484b1-b246ce2b-9ce32e53-24c0bfa7-e625869f",
         "https://physionet.org/files/mimic-cxr/2.1.0/files/p13/p13797827/s50000319.txt"
        ],
        [
         "7",
         "13658672",
         "50000511",
         "5f930e4e-77b45876-8c3d6f4e-b5320395-9bd041f5",
         "https://physionet.org/files/mimic-cxr/2.1.0/files/p13/p13658672/s50000511.txt"
        ],
        [
         "8",
         "13979643",
         "50000708",
         "37d44011-a13c14cc-192d79e1-15858712-b4c468e6",
         "https://physionet.org/files/mimic-cxr/2.1.0/files/p13/p13979643/s50000708.txt"
        ],
        [
         "9",
         "17100571",
         "50000854",
         "39087390-9be0f531-bb438f01-ffc75aff-3fda8cfa",
         "https://physionet.org/files/mimic-cxr/2.1.0/files/p17/p17100571/s50000854.txt"
        ],
        [
         "10",
         "18546999",
         "50001042",
         "b553f655-ff1ea8dd-9177b16f-b40b548a-f3c9c2b0",
         "https://physionet.org/files/mimic-cxr/2.1.0/files/p18/p18546999/s50001042.txt"
        ],
        [
         "11",
         "14147178",
         "50001080",
         "ec456c6a-44a04967-75eebbcf-64ed79a4-11e28784",
         "https://physionet.org/files/mimic-cxr/2.1.0/files/p14/p14147178/s50001080.txt"
        ],
        [
         "12",
         "18249179",
         "50001166",
         "d7477acf-2a537161-8039e338-ecf3fc67-3786b4cb",
         "https://physionet.org/files/mimic-cxr/2.1.0/files/p18/p18249179/s50001166.txt"
        ],
        [
         "13",
         "19299811",
         "50001349",
         "909557aa-0df0baed-8d1c8999-28825f3d-171aebc6",
         "https://physionet.org/files/mimic-cxr/2.1.0/files/p19/p19299811/s50001349.txt"
        ],
        [
         "14",
         "18283050",
         "50001417",
         "5b37ed21-cd7243ba-57075a00-eaf6659f-b2d52860",
         "https://physionet.org/files/mimic-cxr/2.1.0/files/p18/p18283050/s50001417.txt"
        ],
        [
         "15",
         "17824137",
         "50001560",
         "286530c6-41aeeb0c-38760037-701dc3ca-cf6437ec",
         "https://physionet.org/files/mimic-cxr/2.1.0/files/p17/p17824137/s50001560.txt"
        ],
        [
         "16",
         "15434390",
         "50001596",
         "3bbe67ac-2d215fc2-88cc6377-4fd27d94-5edeac19",
         "https://physionet.org/files/mimic-cxr/2.1.0/files/p15/p15434390/s50001596.txt"
        ],
        [
         "17",
         "16861367",
         "50001598",
         "7893757f-7a1082cb-ac83fe95-c563a6e2-2bc0bf79",
         "https://physionet.org/files/mimic-cxr/2.1.0/files/p16/p16861367/s50001598.txt"
        ],
        [
         "18",
         "13421580",
         "50001612",
         "089b48e3-21dd2256-41eb2c07-e7ac0494-da51c1b8",
         "https://physionet.org/files/mimic-cxr/2.1.0/files/p13/p13421580/s50001612.txt"
        ],
        [
         "19",
         "10840747",
         "50001643",
         "d6208977-117a65e3-5238a1ad-856a9ee7-1d238084",
         "https://physionet.org/files/mimic-cxr/2.1.0/files/p10/p10840747/s50001643.txt"
        ],
        [
         "20",
         "16132846",
         "50001708",
         "a5c6c046-89d350e3-f3ad990e-a951be54-ae421151",
         "https://physionet.org/files/mimic-cxr/2.1.0/files/p16/p16132846/s50001708.txt"
        ],
        [
         "21",
         "18431316",
         "50001872",
         "e84bdb76-aae2d5cb-76a4ef1c-25347e60-0d808a20",
         "https://physionet.org/files/mimic-cxr/2.1.0/files/p18/p18431316/s50001872.txt"
        ],
        [
         "22",
         "18798039",
         "50001895",
         "b76913db-c0b9965a-f1a865c7-a0cd56bf-622a8de7",
         "https://physionet.org/files/mimic-cxr/2.1.0/files/p18/p18798039/s50001895.txt"
        ],
        [
         "23",
         "19557250",
         "50001977",
         "25c1aa75-224e1db8-cc009d26-2db01fa5-693a8f80",
         "https://physionet.org/files/mimic-cxr/2.1.0/files/p19/p19557250/s50001977.txt"
        ],
        [
         "24",
         "15581272",
         "50002006",
         "41c3dcc5-708c9712-46638c0a-fd116dec-71650d3a",
         "https://physionet.org/files/mimic-cxr/2.1.0/files/p15/p15581272/s50002006.txt"
        ],
        [
         "25",
         "19819996",
         "50002099",
         "da7861ea-84f0f19a-e40e3f41-803aaf86-28fb529b",
         "https://physionet.org/files/mimic-cxr/2.1.0/files/p19/p19819996/s50002099.txt"
        ],
        [
         "26",
         "19657904",
         "50002184",
         "580fbf21-b7edaf98-f8259a8e-85e37393-8d88746d",
         "https://physionet.org/files/mimic-cxr/2.1.0/files/p19/p19657904/s50002184.txt"
        ],
        [
         "27",
         "19706109",
         "50002220",
         "352dcdcb-d319a7c8-69292ab7-5ea367cb-de83b1fe",
         "https://physionet.org/files/mimic-cxr/2.1.0/files/p19/p19706109/s50002220.txt"
        ],
        [
         "28",
         "17554404",
         "50002302",
         "31df6230-855a0508-3b3e125d-2b4148a4-0d1963ef",
         "https://physionet.org/files/mimic-cxr/2.1.0/files/p17/p17554404/s50002302.txt"
        ],
        [
         "29",
         "17583585",
         "50002305",
         "86fc94d7-f641f6fb-40fabf97-ddfdc257-5a493046",
         "https://physionet.org/files/mimic-cxr/2.1.0/files/p17/p17583585/s50002305.txt"
        ],
        [
         "30",
         "18562317",
         "50002358",
         "e686b4cc-9332850f-b76e3ab2-ccb21de0-e7efed0b",
         "https://physionet.org/files/mimic-cxr/2.1.0/files/p18/p18562317/s50002358.txt"
        ],
        [
         "31",
         "10793324",
         "50002460",
         "a76d9eae-22aba3db-ea4b1e80-4c23b06a-c1992c66",
         "https://physionet.org/files/mimic-cxr/2.1.0/files/p10/p10793324/s50002460.txt"
        ],
        [
         "32",
         "15621306",
         "50002477",
         "ff6bda13-709d0eb8-c70206cf-1a4357ab-cf54f197",
         "https://physionet.org/files/mimic-cxr/2.1.0/files/p15/p15621306/s50002477.txt"
        ],
        [
         "33",
         "17521365",
         "50002493",
         "1cfc43f7-665d0778-824510c5-ccae95ec-a2a0a102",
         "https://physionet.org/files/mimic-cxr/2.1.0/files/p17/p17521365/s50002493.txt"
        ],
        [
         "34",
         "17172702",
         "50002557",
         "142f7f0e-4c380f6b-08c86563-1d5621e2-f0980a96",
         "https://physionet.org/files/mimic-cxr/2.1.0/files/p17/p17172702/s50002557.txt"
        ],
        [
         "35",
         "11040157",
         "50002603",
         "1af10afe-2bbd3db2-636f3212-52094e83-18bd8dce",
         "https://physionet.org/files/mimic-cxr/2.1.0/files/p11/p11040157/s50002603.txt"
        ],
        [
         "36",
         "19421690",
         "50002609",
         "9e6afa49-ed48e7c8-5372271d-0ab21d1c-e50a061b",
         "https://physionet.org/files/mimic-cxr/2.1.0/files/p19/p19421690/s50002609.txt"
        ],
        [
         "37",
         "12499945",
         "50002733",
         "5fc4c3a7-2b9c4c85-7237349d-5886f17f-d8c6e2d3",
         "https://physionet.org/files/mimic-cxr/2.1.0/files/p12/p12499945/s50002733.txt"
        ],
        [
         "38",
         "12284340",
         "50002735",
         "913914ad-b0cdbb99-6c0f6c10-cdaa1478-7f623abe",
         "https://physionet.org/files/mimic-cxr/2.1.0/files/p12/p12284340/s50002735.txt"
        ],
        [
         "39",
         "12868507",
         "50002970",
         "01b1eecf-7b2ef75f-62a420ba-50abbf6c-31f68583",
         "https://physionet.org/files/mimic-cxr/2.1.0/files/p12/p12868507/s50002970.txt"
        ],
        [
         "40",
         "15906662",
         "50003120",
         "69438681-43e0962a-6869790b-c0e0803f-34577ae0",
         "https://physionet.org/files/mimic-cxr/2.1.0/files/p15/p15906662/s50003120.txt"
        ],
        [
         "41",
         "19472091",
         "50003124",
         "8e3215b8-42aa1d56-1abf4118-10e4ad01-10b9e54a",
         "https://physionet.org/files/mimic-cxr/2.1.0/files/p19/p19472091/s50003124.txt"
        ],
        [
         "42",
         "11434374",
         "50003315",
         "b539801b-95313d8f-33b29335-a9057bf8-f20b8f91",
         "https://physionet.org/files/mimic-cxr/2.1.0/files/p11/p11434374/s50003315.txt"
        ],
        [
         "43",
         "12330994",
         "50003460",
         "ce6b7469-6050f795-6611ece5-f90733ca-144e6260",
         "https://physionet.org/files/mimic-cxr/2.1.0/files/p12/p12330994/s50003460.txt"
        ],
        [
         "44",
         "15146002",
         "50003840",
         "1c4e4e42-c4031147-5c2f8e3b-01eee579-a12b0062",
         "https://physionet.org/files/mimic-cxr/2.1.0/files/p15/p15146002/s50003840.txt"
        ],
        [
         "45",
         "10745469",
         "50003973",
         "dee7955e-fa3a9abd-593808d5-0a017915-6d8c3ecb",
         "https://physionet.org/files/mimic-cxr/2.1.0/files/p10/p10745469/s50003973.txt"
        ],
        [
         "46",
         "15497723",
         "50004121",
         "12bb1c19-13fddbb0-97a12ad8-351b12f5-a016fadd",
         "https://physionet.org/files/mimic-cxr/2.1.0/files/p15/p15497723/s50004121.txt"
        ],
        [
         "47",
         "14185804",
         "50004171",
         "08eb0c93-4cd58454-0669a604-c89aa5a1-6269d526",
         "https://physionet.org/files/mimic-cxr/2.1.0/files/p14/p14185804/s50004171.txt"
        ],
        [
         "48",
         "11900721",
         "50004502",
         "a8e549c2-8901a79e-fd1543cb-138a85c5-2b44c627",
         "https://physionet.org/files/mimic-cxr/2.1.0/files/p11/p11900721/s50004502.txt"
        ],
        [
         "49",
         "11761571",
         "50004622",
         "aa44ade8-4bff9918-9fe41c0f-fa1f0df0-65a2bbd1",
         "https://physionet.org/files/mimic-cxr/2.1.0/files/p11/p11761571/s50004622.txt"
        ]
       ],
       "shape": {
        "columns": 4,
        "rows": 50001
       }
      },
      "text/html": [
       "<div>\n",
       "<style scoped>\n",
       "    .dataframe tbody tr th:only-of-type {\n",
       "        vertical-align: middle;\n",
       "    }\n",
       "\n",
       "    .dataframe tbody tr th {\n",
       "        vertical-align: top;\n",
       "    }\n",
       "\n",
       "    .dataframe thead th {\n",
       "        text-align: right;\n",
       "    }\n",
       "</style>\n",
       "<table border=\"1\" class=\"dataframe\">\n",
       "  <thead>\n",
       "    <tr style=\"text-align: right;\">\n",
       "      <th></th>\n",
       "      <th>subject_id</th>\n",
       "      <th>study_id</th>\n",
       "      <th>dicom_id</th>\n",
       "      <th>txt_urls</th>\n",
       "    </tr>\n",
       "  </thead>\n",
       "  <tbody>\n",
       "    <tr>\n",
       "      <th>0</th>\n",
       "      <td>11941242</td>\n",
       "      <td>50000014</td>\n",
       "      <td>dffc8ab2-ff37704f-2fb29e6d-51e08075-88bca914</td>\n",
       "      <td>https://physionet.org/files/mimic-cxr/2.1.0/fi...</td>\n",
       "    </tr>\n",
       "    <tr>\n",
       "      <th>1</th>\n",
       "      <td>15752761</td>\n",
       "      <td>50000052</td>\n",
       "      <td>a09e5a6c-9635efa7-de26c04a-28104ce9-e5f798d6</td>\n",
       "      <td>https://physionet.org/files/mimic-cxr/2.1.0/fi...</td>\n",
       "    </tr>\n",
       "    <tr>\n",
       "      <th>2</th>\n",
       "      <td>15641478</td>\n",
       "      <td>50000103</td>\n",
       "      <td>2494a682-83c9ec78-4727272f-25733f42-58d9f47c</td>\n",
       "      <td>https://physionet.org/files/mimic-cxr/2.1.0/fi...</td>\n",
       "    </tr>\n",
       "    <tr>\n",
       "      <th>3</th>\n",
       "      <td>19309850</td>\n",
       "      <td>50000125</td>\n",
       "      <td>dfa001f0-9c3d0a8c-b61096ea-e3b90c21-6228ddff</td>\n",
       "      <td>https://physionet.org/files/mimic-cxr/2.1.0/fi...</td>\n",
       "    </tr>\n",
       "    <tr>\n",
       "      <th>4</th>\n",
       "      <td>19999287</td>\n",
       "      <td>50000173</td>\n",
       "      <td>c8bbb9ff-ecb81ef7-a1a6cecf-f535bd20-bd512ba0</td>\n",
       "      <td>https://physionet.org/files/mimic-cxr/2.1.0/fi...</td>\n",
       "    </tr>\n",
       "    <tr>\n",
       "      <th>...</th>\n",
       "      <td>...</td>\n",
       "      <td>...</td>\n",
       "      <td>...</td>\n",
       "      <td>...</td>\n",
       "    </tr>\n",
       "    <tr>\n",
       "      <th>49996</th>\n",
       "      <td>16571136</td>\n",
       "      <td>53772096</td>\n",
       "      <td>116d2a25-4739dbc6-02ddd3f4-ca7f9ce7-3bc5d9c7</td>\n",
       "      <td>https://physionet.org/files/mimic-cxr/2.1.0/fi...</td>\n",
       "    </tr>\n",
       "    <tr>\n",
       "      <th>49997</th>\n",
       "      <td>15934572</td>\n",
       "      <td>53772183</td>\n",
       "      <td>27a1794a-7aa9c60a-7ca9b201-eb7b631b-35d4f15e</td>\n",
       "      <td>https://physionet.org/files/mimic-cxr/2.1.0/fi...</td>\n",
       "    </tr>\n",
       "    <tr>\n",
       "      <th>49998</th>\n",
       "      <td>16087436</td>\n",
       "      <td>53772252</td>\n",
       "      <td>449d8b01-17a548f2-72fba88f-7b7316c6-04e5d3bd</td>\n",
       "      <td>https://physionet.org/files/mimic-cxr/2.1.0/fi...</td>\n",
       "    </tr>\n",
       "    <tr>\n",
       "      <th>49999</th>\n",
       "      <td>15388421</td>\n",
       "      <td>53772304</td>\n",
       "      <td>35af548c-e63b36b9-f187f361-38fb20b9-6899ae2f</td>\n",
       "      <td>https://physionet.org/files/mimic-cxr/2.1.0/fi...</td>\n",
       "    </tr>\n",
       "    <tr>\n",
       "      <th>50000</th>\n",
       "      <td>11135350</td>\n",
       "      <td>53772313</td>\n",
       "      <td>cd3281a8-6fdf014d-d38263aa-913e7ac6-50920fae</td>\n",
       "      <td>https://physionet.org/files/mimic-cxr/2.1.0/fi...</td>\n",
       "    </tr>\n",
       "  </tbody>\n",
       "</table>\n",
       "<p>50001 rows × 4 columns</p>\n",
       "</div>"
      ],
      "text/plain": [
       "       subject_id  study_id                                      dicom_id  \\\n",
       "0        11941242  50000014  dffc8ab2-ff37704f-2fb29e6d-51e08075-88bca914   \n",
       "1        15752761  50000052  a09e5a6c-9635efa7-de26c04a-28104ce9-e5f798d6   \n",
       "2        15641478  50000103  2494a682-83c9ec78-4727272f-25733f42-58d9f47c   \n",
       "3        19309850  50000125  dfa001f0-9c3d0a8c-b61096ea-e3b90c21-6228ddff   \n",
       "4        19999287  50000173  c8bbb9ff-ecb81ef7-a1a6cecf-f535bd20-bd512ba0   \n",
       "...           ...       ...                                           ...   \n",
       "49996    16571136  53772096  116d2a25-4739dbc6-02ddd3f4-ca7f9ce7-3bc5d9c7   \n",
       "49997    15934572  53772183  27a1794a-7aa9c60a-7ca9b201-eb7b631b-35d4f15e   \n",
       "49998    16087436  53772252  449d8b01-17a548f2-72fba88f-7b7316c6-04e5d3bd   \n",
       "49999    15388421  53772304  35af548c-e63b36b9-f187f361-38fb20b9-6899ae2f   \n",
       "50000    11135350  53772313  cd3281a8-6fdf014d-d38263aa-913e7ac6-50920fae   \n",
       "\n",
       "                                                txt_urls  \n",
       "0      https://physionet.org/files/mimic-cxr/2.1.0/fi...  \n",
       "1      https://physionet.org/files/mimic-cxr/2.1.0/fi...  \n",
       "2      https://physionet.org/files/mimic-cxr/2.1.0/fi...  \n",
       "3      https://physionet.org/files/mimic-cxr/2.1.0/fi...  \n",
       "4      https://physionet.org/files/mimic-cxr/2.1.0/fi...  \n",
       "...                                                  ...  \n",
       "49996  https://physionet.org/files/mimic-cxr/2.1.0/fi...  \n",
       "49997  https://physionet.org/files/mimic-cxr/2.1.0/fi...  \n",
       "49998  https://physionet.org/files/mimic-cxr/2.1.0/fi...  \n",
       "49999  https://physionet.org/files/mimic-cxr/2.1.0/fi...  \n",
       "50000  https://physionet.org/files/mimic-cxr/2.1.0/fi...  \n",
       "\n",
       "[50001 rows x 4 columns]"
      ]
     },
     "execution_count": 10,
     "metadata": {},
     "output_type": "execute_result"
    }
   ],
   "source": [
    "result[\"txt_urls\"] = result.apply(\n",
    "    lambda row: f\"https://physionet.org/files/mimic-cxr/2.1.0/files/p{str(row['subject_id'])[:2]}/p{row['subject_id']}/s{row['study_id']}.txt\",\n",
    "    axis=1\n",
    ")\n",
    "result = result[:50001]\n",
    "result"
   ]
  },
  {
   "cell_type": "code",
   "execution_count": null,
   "metadata": {},
   "outputs": [
    {
     "name": "stderr",
     "output_type": "stream",
     "text": [
      "100%|██████████| 50001/50001 [15:06:47<00:00,  1.09s/it]   \n"
     ]
    }
   ],
   "source": [
    "import subprocess\n",
    "from tqdm import tqdm\n",
    "# Windows-style path where you want to save the files\n",
    "windows_download_path = r\"D:/\"\n",
    "\n",
    "# Convert it to WSL-compatible path (e.g., /mnt/c/Users/...)\n",
    "wsl_path = windows_download_path.replace(\"D:\", \"/mnt/d\").replace(\"//\", \"/\")\n",
    "\n",
    "\n",
    "\n",
    "# Replace with your actual username\n",
    "username = \"alexguld\"\n",
    "password = \"oste1234\"\n",
    "urls = result[\"txt_urls\"].tolist()\n",
    "# Replace with your list of URLs\n",
    "# urls = [\n",
    "#     \"https://physionet.org/files/mimic-cxr-jpg/2.1.0/files/\"\n",
    "#     \"p12/p12797228/s58919693/77a0b0c0-888d36ae-f27762a3-60628a2a-0bfad07d.jpg\",\n",
    "#     \"https://physionet.org/files/mimic-cxr-jpg/2.1.0/files/p12/p12797228/s59275957/374ceefa-40a4121d-77643f77-6174f51b-ab715685.jpg\",# For recursive\n",
    "# ]\n",
    "\n",
    "# Download files\n",
    "for url in tqdm(urls):\n",
    "    cmd = [https://ag-ig.app.n8n.cloud/workflow/pnQRDuw3eTKRyQD4\n",
    "        \"wsl\",\n",
    "        \"wget\",\n",
    "        \"-r\",           # recursive\n",
    "        \"-N\",           # turn on timestamping\n",
    "        \"-c\",           # resume downloads\n",
    "        \"-np\",          # no parent\n",
    "        \"--user\", username,\n",
    "        \"--password\", password,  # prompt once for password\n",
    "        \"-P\", wsl_path,\n",
    "        url\n",
    "    ]\n",
    "\n",
    "    subprocess.run(cmd)"
   ]
  },
  {
   "cell_type": "code",
   "execution_count": 24,
   "metadata": {},
   "outputs": [],
   "source": [
    "import pandas as pd\n",
    "from pathlib import Path\n",
    "\n",
    "# Load your DataFrame\n",
    "df = pd.read_csv('D:/Bachelor_project/data/All_AP_pic_w_urls_50000.csv')  # Or however you're loading it\n",
    "\n",
    "# Combine both columns into one list of paths\n",
    "all_paths = pd.concat([df['urls'], df['txt_urls']]).dropna().unique()\n",
    "all_paths = [\n",
    "\"D:/physionet.org/files/mimic-cxr-jpg/2.1.0/files/p17/p17653729/s50806957/b84b807a-94e3feb5-40024511-d51f8b11-46d0ac77.jpg\",\n",
    "\"D:/physionet.org/files/mimic-cxr-jpg/2.1.0/files/p17/p17556194/s51043546/911d93fa-4b754dfd-135f205d-3535414e-dbcfe509.jpg\",\n",
    "\"D:/physionet.org/files/mimic-cxr-jpg/2.1.0/files/p14/p14354835/s51043564/1c2d677c-e2e7de78-a3b74965-e2d4a3b2-31bf1e75.jpg\",\n",
    "\"D:/physionet.org/files/mimic-cxr-jpg/2.1.0/files/p11/p11857739/s51147423/a8f1e0d3-2abee7bc-05fba218-2ac6c1af-eb955168.jpg\",\n",
    "\"D:/physionet.org/files/mimic-cxr-jpg/2.1.0/files/p15/p15342986/s51184892/798c79fe-dc61c747-34e319d9-6be2c11a-2b302735.jpg\",\n",
    "\"D:/physionet.org/files/mimic-cxr-jpg/2.1.0/files/p12/p12698907/s51185197/42d18067-aa916f90-97d78e7f-8bb04995-c57b46fb.jpg\",\n",
    "\"D:/physionet.org/files/mimic-cxr-jpg/2.1.0/files/p12/p12747817/s51185447/82366968-f1e305b3-85dc3d12-07963195-ee6a4422.jpg\",\n",
    "\"D:/physionet.org/files/mimic-cxr-jpg/2.1.0/files/p16/p16364939/s51185497/8e0fcd94-08cf1fca-8644f7b6-33dc08d5-7367472c.jpg\",\n",
    "\"D:/physionet.org/files/mimic-cxr-jpg/2.1.0/files/p15/p15297415/s51185508/a9f291b2-770a829a-fbfdede5-31704450-56ed0610.jpg\",\n",
    "\"D:/physionet.org/files/mimic-cxr-jpg/2.1.0/files/p18/p18052788/s51185536/bac67b0b-ee0517f9-e1c46fc3-99c8fff3-8769a01e.jpg\",\n",
    "\"D:/physionet.org/files/mimic-cxr-jpg/2.1.0/files/p17/p17078867/s51185562/3f674811-c0e140ed-133eb32e-aa373807-0098c632.jpg\",\n",
    "\"D:/physionet.org/files/mimic-cxr-jpg/2.1.0/files/p12/p12919021/s51199248/c317ed81-c55204d1-819d6eb1-0ba2200f-16085ab2.jpg\",\n",
    "\"D:/physionet.org/files/mimic-cxr-jpg/2.1.0/files/p16/p16232950/s51199386/59ae55e5-0bc0df76-b02e82a5-af797057-4967ff35.jpg\",\n",
    "\"D:/physionet.org/files/mimic-cxr-jpg/2.1.0/files/p12/p12885435/s51279219/f8335c69-519941eb-b6a6bd7f-a29abf87-a3c84d61.jpg\",\n",
    "\"D:/physionet.org/files/mimic-cxr-jpg/2.1.0/files/p16/p16148446/s51279249/231542bb-0a887a5b-e7c0b452-52bc89be-1ee36134.jpg\",\n",
    "\"D:/physionet.org/files/mimic-cxr-jpg/2.1.0/files/p14/p14689985/s51369090/8dccaddd-3297aa34-adad77ef-f9f2e347-9c5f8c44.jpg\",\n",
    "\"D:/physionet.org/files/mimic-cxr-jpg/2.1.0/files/p16/p16293344/s51369095/0ddc18d6-dedada82-62ce76ad-1c8ab2e2-68521d78.jpg\",\n",
    "\"D:/physionet.org/files/mimic-cxr-jpg/2.1.0/files/p15/p15259244/s51427308/cd20a77e-2332eb46-6c09f2d2-e0e8d1d9-8f18baf1.jpg\",\n",
    "\"D:/physionet.org/files/mimic-cxr-jpg/2.1.0/files/p16/p16066555/s51445859/96c68b1d-e9f11b8f-1e4934c8-16426bc3-1da91bfa.jpg\",\n",
    "\"D:/physionet.org/files/mimic-cxr-jpg/2.1.0/files/p16/p16781289/s51474085/9241c44b-822bef5a-b26cce92-1a451e29-c7ce71c9.jpg\",\n",
    "\"D:/physionet.org/files/mimic-cxr-jpg/2.1.0/files/p16/p16582727/s51474160/e49f6f51-ba49d98b-b277e328-4fdac095-aec88e70.jpg\",\n",
    "\"D:/physionet.org/files/mimic-cxr-jpg/2.1.0/files/p12/p12595991/s51474707/f2baee8f-ab9bb3f0-cd412d19-fa6f5014-d0388839.jpg\",\n",
    "\"D:/physionet.org/files/mimic-cxr-jpg/2.1.0/files/p15/p15537698/s51474752/d4e58d6f-ca8e2bc1-55526249-4d825049-2016fcd6.jpg\",\n",
    "\"D:/physionet.org/files/mimic-cxr-jpg/2.1.0/files/p18/p18180310/s51484322/199abef3-c61bdc96-c8edd0f1-8dc20b04-0d39d473.jpg\",\n",
    "\"D:/physionet.org/files/mimic-cxr-jpg/2.1.0/files/p15/p15566609/s51484439/7c91c7ac-deb0cc76-a30cbc70-40bc5b4d-6c6ebf60.jpg\",\n",
    "\"D:/physionet.org/files/mimic-cxr-jpg/2.1.0/files/p13/p13297093/s51484492/9f22924f-5d21ddeb-fd66bdd0-529253a3-8a5e9c24.jpg\",\n",
    "\"D:/physionet.org/files/mimic-cxr-jpg/2.1.0/files/p12/p12065607/s51485168/0667686d-709610ca-f4465b46-bc1a39bd-d7d87d07.jpg\",\n",
    "\"D:/physionet.org/files/mimic-cxr-jpg/2.1.0/files/p12/p12432370/s51525081/b0da79ba-750fb986-1b54ceb0-178584f5-8ad14e13.jpg\",\n",
    "\"D:/physionet.org/files/mimic-cxr-jpg/2.1.0/files/p14/p14260018/s51550899/8ea9f070-f7f798fe-ffb7a111-313bc792-ec92d5e3.jpg\",\n",
    "\"D:/physionet.org/files/mimic-cxr-jpg/2.1.0/files/p13/p13983349/s51600949/9e2e584b-95790d7c-acb9bfbb-e1de2356-f15a3ed7.jpg\",\n",
    "    ]\n",
    "# Check each path\n",
    "for file_path in all_paths:\n",
    "    path = Path(file_path)\n",
    "    if not path.exists():\n",
    "        print(f\"\\\"{path}\\\",\")\n"
   ]
  }
 ],
 "metadata": {
  "kernelspec": {
   "display_name": "Cuda_base",
   "language": "python",
   "name": "python3"
  },
  "language_info": {
   "codemirror_mode": {
    "name": "ipython",
    "version": 3
   },
   "file_extension": ".py",
   "mimetype": "text/x-python",
   "name": "python",
   "nbconvert_exporter": "python",
   "pygments_lexer": "ipython3",
   "version": "3.10.16"
  }
 },
 "nbformat": 4,
 "nbformat_minor": 2
}
