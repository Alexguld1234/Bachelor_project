{
 "cells": [
  {
   "cell_type": "code",
   "execution_count": 1,
   "id": "45664b1d",
   "metadata": {},
   "outputs": [
    {
     "name": "stdout",
     "output_type": "stream",
     "text": [
      "Filtered dataframe saved to Final_AP_Missing_Removed_12519.csv\n"
     ]
    }
   ],
   "source": [
    "import pandas as pd\n",
    "\n",
    "# Load the CSV file\n",
    "df = pd.read_csv('Final_AP_url_label_50000.csv')\n",
    "\n",
    "# Filter out rows where pneumonia_label == 3\n",
    "df_filtered = df[df['pneumonia_label'] != 3]\n",
    "\n",
    "# Get the length of the filtered dataframe\n",
    "length = len(df_filtered)\n",
    "\n",
    "# Create the new filename\n",
    "new_filename = f'Final_AP_Missing_Removed_{length}.csv'\n",
    "\n",
    "# Save the filtered dataframe to a new CSV\n",
    "df_filtered.to_csv(new_filename, index=False)\n",
    "\n",
    "print(f\"Filtered dataframe saved to {new_filename}\")\n"
   ]
  }
 ],
 "metadata": {
  "kernelspec": {
   "display_name": "Bachelor_project",
   "language": "python",
   "name": "python3"
  },
  "language_info": {
   "codemirror_mode": {
    "name": "ipython",
    "version": 3
   },
   "file_extension": ".py",
   "mimetype": "text/x-python",
   "name": "python",
   "nbconvert_exporter": "python",
   "pygments_lexer": "ipython3",
   "version": "3.10.16"
  }
 },
 "nbformat": 4,
 "nbformat_minor": 5
}
